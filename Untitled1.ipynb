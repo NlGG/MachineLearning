{
 "cells": [
  {
   "cell_type": "code",
   "execution_count": 1,
   "metadata": {
    "collapsed": true
   },
   "outputs": [],
   "source": [
    "%matplotlib inline\n",
    "\n",
    "import numpy as np\n",
    "import pylab as pl\n",
    "import math \n",
    "from sympy import *\n",
    "import matplotlib.pyplot as plt\n",
    "import matplotlib.animation as animation\n",
    "from mpl_toolkits.mplot3d import Axes3D"
   ]
  },
  {
   "cell_type": "code",
   "execution_count": 62,
   "metadata": {
    "collapsed": false
   },
   "outputs": [],
   "source": [
    "import numpy as np\n",
    "import pylab as pl\n",
    "import math \n",
    "from sympy import *\n",
    "\n",
    "class RNN:\n",
    "    def __init__(self):\n",
    "        pass\n",
    "    \n",
    "    def set_input_layer(self, x):\n",
    "        self.input_layer = np.zeros(x)\n",
    "        return self.input_layer\n",
    "    \n",
    "    def set_output_layer(self, x):\n",
    "        self.output_layer = np.zeros(x)\n",
    "        self.before_output_layer = np.zeros(x)\n",
    "        self.supervised_data = np.zeros(x)\n",
    "        return self.output_layer, self.before_output_layer, self.supervised_data\n",
    "    \n",
    "    def set_hidden_layer(self, x):\n",
    "        self.hidden_layer = np.zeros(x)\n",
    "        self.before_hidden_layer = np.zeros(x)\n",
    "        return self.hidden_layer, self.before_hidden_layer\n",
    "    \n",
    "    def setup(self):\n",
    "        w_k = np.zeros(len(self.output_layer))\n",
    "        self.w_kj = np.array([w_k for i in range(len(self.hidden_layer))])\n",
    "        w_j = np.zeros(len(self.hidden_layer))\n",
    "        self.w_ji = np.array([w_j for i in range(len(self.input_layer))])\n",
    "        return self.w_kj, self.w_ji\n",
    "        \n",
    "    def initialize(self, hidden=None):\n",
    "        for i in range(len(self.hidden_layer)):\n",
    "            for j in range(len(self.output_layer)):\n",
    "                self.w_kj[i][j] = np.random.uniform(-1.0/math.sqrt(1.0/len(self.hidden_layer)), 1.0/math.sqrt(1.0/len(self.hidden_layer)))\n",
    "            \n",
    "        for i in range(len(self.input_layer)):\n",
    "            for j in range(len(self.hidden_layer)):\n",
    "                self.w_ji[i][j] = np.random.uniform(-1.0/math.sqrt(1.0/len(self.input_layer)), 1.0/math.sqrt(1.0/len(self.input_layer)))\n",
    "     \n",
    "        if hidden is None:\n",
    "            u = Symbol('u')\n",
    "            self.hfunction = 1/(1+exp(-u))\n",
    "            self.diff_hf = diff(self.hfunction)\n",
    "        else:\n",
    "            self.hfunction = hidden\n",
    "            self.diff_hf = diff(self.hfunction)\n",
    "    \n",
    "    def supervised_function(self, sdata):\n",
    "        for i in range(len(self.supervised_data)):\n",
    "            self.supervised_data[i] = sdata[i]\n",
    "            \n",
    "    def set_hidden_error(self, j):\n",
    "        u = Symbol(\"u\")\n",
    "        diff_hf = self.diff_hf \n",
    "        hidden_error = 0\n",
    "        for k in range(len(self.output_layer)):\n",
    "            delta_z = diff_hf.subs([(u, self.before_output_layer[k])]) \n",
    "            hidden_error += self.w_kj[j][k]*(self.supervised_data[k] - self.output_layer[k])*delta_z\n",
    "        return hidden_error\n",
    "        \n",
    "    def calculation(self):\n",
    "        u = Symbol(\"u\")\n",
    "        hfunction = self.hfunction\n",
    "        diff_hf = self.diff_hf\n",
    "        \n",
    "        for i in range(len(self.input_layer)):\n",
    "            self.before_hidden_layer = np.matrix(self.w_ji).T*np.matrix(self.input_layer).T\n",
    "            \n",
    "        for i in range(len(self.hidden_layer)):\n",
    "            self.hidden_layer[i] = hfunction.subs([(u, self.before_hidden_layer[i])])\n",
    "            \n",
    "        for i in range(len(self.before_output_layer)):\n",
    "            self.before_output_layer = np.matrix(self.w_kj).T*np.matrix(self.hidden_layer).T\n",
    "                                                   \n",
    "        for i in range(len(self.output_layer)):\n",
    "            self.output_layer[i] = hfunction.subs([(u, self.before_output_layer[i])]) \n",
    "                \n",
    "    def output_ad(self):\n",
    "        u = Symbol(\"u\")\n",
    "        hfunction = self.hfunction\n",
    "        diff_hf = self.diff_hf \n",
    "        \n",
    "        eta = self.eta\n",
    "        for j in range(len(self.hidden_layer)):\n",
    "            for k in range(len(self.output_layer)):\n",
    "                delta_J = self.supervised_data[k] - self.output_layer[k]\n",
    "                delta_z = self.output_layer[k]*(1-self.output_layer[k])\n",
    "                delta_v = self.hidden_layer[j]\n",
    "                self.w_kj[j][k] += eta*delta_J*delta_z*delta_v\n",
    "    \n",
    "    def input_ad(self):  \n",
    "        u = Symbol(\"u\")\n",
    "        hfunction = self.hfunction\n",
    "        diff_hf = self.diff_hf \n",
    "        \n",
    "        eta = self.eta\n",
    "        for i in range(len(self.input_layer)):\n",
    "            for j in range(len(self.hidden_layer)):\n",
    "                hidden_error = self.set_hidden_error(j)\n",
    "                delta_y = self.hidden_layer[j]*(1-self.hidden_layer[j])\n",
    "                delta_u = self.input_layer[i]\n",
    "                self.w_ji[i][j] += eta*hidden_error*delta_y*delta_u\n",
    "                \n",
    "    def simulate(self, idata, sdata, eta):\n",
    "        self.eta = eta\n",
    "        self.thidden = np.array([])\n",
    "        self.toutput = np.array([])\n",
    "        for i in range(len(idata)):\n",
    "            self.supervised_function(sdata[i])\n",
    "            for j in range(len(idata[i])):\n",
    "                self.input_layer[j] = idata[-i-1][j]\n",
    "            for j in range(len(self.hidden_layer)):\n",
    "                self.input_layer[len(idata[-i-1])+j-1] = self.hidden_layer[j]\n",
    "            self.calculation()\n",
    "            self.output_ad()\n",
    "            self.calculation()\n",
    "            self.input_ad()\n",
    "        return self.output_layer\n",
    "    \n",
    "    def main(self, idata, sdata, eta, N, i=2, h=2, o=1):\n",
    "        self.set_input_layer(i+h)\n",
    "        self.set_hidden_layer(h)\n",
    "        self.set_output_layer(o)\n",
    "        self.setup()\n",
    "        self.initialize()\n",
    "        return self.output_layer[0]\n",
    "    \n",
    "    def set_network(self, i=2, h=5, o=1):\n",
    "        self.set_input_layer(i+h)\n",
    "        self.set_hidden_layer(h)\n",
    "        self.set_output_layer(o)\n",
    "        self.setup()\n",
    "        self.initialize()\n",
    "    \n",
    "    def main2(self, idata, sdata, eta):\n",
    "        self.simulate(idata, sdata, eta)\n",
    "        return self.output_layer[0]\n",
    "    \n",
    "    def realize(self, idata):\n",
    "        for i in range(len(idata)):\n",
    "            for j in range(len(idata[-i])):\n",
    "                self.input_layer[j] = idata[i][j]\n",
    "            for j in range(len(self.hidden_layer)):\n",
    "                self.input_layer[len(idata[i])+j-1] = self.hidden_layer[j]\n",
    "            self.calculation()\n",
    "        return self.output_layer[0]"
   ]
  },
  {
   "cell_type": "markdown",
   "metadata": {},
   "source": [
    "ゲーム理論で用いられるTit for Tatを再現してみる。二人のプレーヤーが互いにRNNで相手の行動を予測し、相手の行動に対してTit for Tatに基づいた行動を選択する。"
   ]
  },
  {
   "cell_type": "markdown",
   "metadata": {},
   "source": [
    "最初の行動はRNNで指定できないので、所与となる。この初期値と裏切りに対する感応度で収束の仕方が決まる。"
   ]
  },
  {
   "cell_type": "markdown",
   "metadata": {},
   "source": [
    "協調を1、裏切りを0としている。RNNの予測値は整数値でないが、p=（RNNの出力値）で次回に協調を行う。"
   ]
  },
  {
   "cell_type": "markdown",
   "metadata": {},
   "source": [
    "例１：1期目に、プレーヤー１が協力、プレーヤー２が裏切り。"
   ]
  },
  {
   "cell_type": "code",
   "execution_count": 109,
   "metadata": {
    "collapsed": false
   },
   "outputs": [
    {
     "name": "stdout",
     "output_type": "stream",
     "text": [
      "0.020952236405 0.0540398955796 [[1, 0], [0, 1], [1, 0], [0, 0], [0, 0], [0, 0], [0, 0], [0, 0], [0, 0], [0, 0], [0, 0], [0, 0], [0, 0], [0, 0], [0, 0], [0, 0], [0, 0], [0, 0], [0, 0], [0, 0], [0, 0]]\n"
     ]
    }
   ],
   "source": [
    "nn1 = RNN()\n",
    "nn1.set_network()\n",
    "nn2 = RNN()\n",
    "nn2.set_network()\n",
    "\n",
    "idata1 = [[1, 0]]\n",
    "idata2 = [[0, 1]]\n",
    "sdata1 = [[0]]\n",
    "sdata2 = [[1]]\n",
    "\n",
    "for t in range(20):\n",
    "    \n",
    "    for i in range(10):\n",
    "        nn1.main2(idata1, sdata2, 0.9)\n",
    "        nn2.main2(idata2, sdata1, 0.9)\n",
    "    \n",
    "    idata1.append([sdata1[-1][0], sdata2[-1][0]])\n",
    "    idata2.append([idata1[-1][1], idata1[-1][0]])\n",
    "                   \n",
    "    n1r = nn1.realize(idata1)\n",
    "    n2r = nn2.realize(idata1)\n",
    "    sdata1.append([np.random.choice([1, 0], p=[n1r, 1-n1r])])\n",
    "    \n",
    "    sdata2.append([np.random.choice([1, 0], p=[n2r, 1-n2r])])\n",
    "        \n",
    "idata.append([sdata1[-1][0], sdata2[-1][0]])\n",
    "print nn1.realize(idata1), nn2.realize(idata), idata1"
   ]
  },
  {
   "cell_type": "code",
   "execution_count": null,
   "metadata": {
    "collapsed": true
   },
   "outputs": [],
   "source": [
    "下の図より、最初は交互に相手にしっぺ返しをしているが、やがて両者が裏切り合うこと状態に収束する。"
   ]
  },
  {
   "cell_type": "code",
   "execution_count": 111,
   "metadata": {
    "collapsed": false
   },
   "outputs": [
    {
     "data": {
      "text/plain": [
       "[<matplotlib.lines.Line2D at 0x107467250>]"
      ]
     },
     "execution_count": 111,
     "metadata": {},
     "output_type": "execute_result"
    },
    {
     "data": {
      "image/png": "[encoded data removed]",
      "text/plain": [
       "<matplotlib.figure.Figure at 0x10778e1d0>"
      ]
     },
     "metadata": {},
     "output_type": "display_data"
    }
   ],
   "source": [
    "p1 = []\n",
    "p2 = []\n",
    "for i in range(len(idata1)):\n",
    "    p1.append(idata1[i][0])\n",
    "for i in range(len(idata2)):\n",
    "    p2.append(idata2[i][0])\n",
    "plt.plot(p1)\n",
    "plt.plot(p2)"
   ]
  },
  {
   "cell_type": "markdown",
   "metadata": {},
   "source": [
    "例２：1期目に、プレーヤー１が協力、プレーヤー２が協力。ただし、プレーヤー２は相手の裏切りをかなり警戒している。"
   ]
  },
  {
   "cell_type": "markdown",
   "metadata": {},
   "source": [
    "警戒を表すためにp=（RNNの出力値 - 0.2）とする。p<0の場合はp=0に直す。"
   ]
  },
  {
   "cell_type": "code",
   "execution_count": 112,
   "metadata": {
    "collapsed": false
   },
   "outputs": [
    {
     "name": "stdout",
     "output_type": "stream",
     "text": [
      "0.615854475273 0.882223771712 [[1, 1], [1, 1], [1, 1], [1, 1], [1, 0], [1, 0], [1, 0], [1, 0], [0, 1], [0, 1], [1, 1], [0, 1], [1, 1], [1, 0], [1, 1], [1, 1], [1, 0], [1, 1], [0, 0], [1, 1], [1, 1]]\n"
     ]
    }
   ],
   "source": [
    "nn1 = RNN()\n",
    "nn1.set_network()\n",
    "nn2 = RNN()\n",
    "nn2.set_network()\n",
    "\n",
    "idata1 = [[1, 1]]\n",
    "idata2 = [[1, 1]]\n",
    "sdata1 = [[1]]\n",
    "sdata2 = [[1]]\n",
    "\n",
    "for t in range(20):\n",
    "    \n",
    "    for i in range(10):\n",
    "        nn1.main2(idata1, sdata2, 0.9)\n",
    "        nn2.main2(idata2, sdata1, 0.9)\n",
    "    \n",
    "    idata1.append([sdata1[-1][0], sdata2[-1][0]])\n",
    "    idata2.append([idata1[-1][1], idata1[-1][0]])\n",
    "                   \n",
    "    n1r = nn1.realize(idata1)\n",
    "    n2r = nn2.realize(idata1)\n",
    "    \n",
    "    prob1 = n1r \n",
    "    prob2 = n2r - 0.3\n",
    "    \n",
    "    if prob2 < 0:\n",
    "        prob2 = 0\n",
    "    \n",
    "    sdata1.append([np.random.choice([1, 0], p=[prob1, 1-prob1])])\n",
    "    \n",
    "    sdata2.append([np.random.choice([1, 0], p=[prob2, 1-prob2])])\n",
    "        \n",
    "idata.append([sdata1[-1][0], sdata2[-1][0]])\n",
    "print nn1.realize(idata1), nn2.realize(idata), idata1"
   ]
  },
  {
   "cell_type": "code",
   "execution_count": 113,
   "metadata": {
    "collapsed": false
   },
   "outputs": [
    {
     "data": {
      "text/plain": [
       "[<matplotlib.lines.Line2D at 0x10838df50>]"
      ]
     },
     "execution_count": 113,
     "metadata": {},
     "output_type": "execute_result"
    },
    {
     "data": {
      "image/png": "[encoded data removed]",
      "text/plain": [
       "<matplotlib.figure.Figure at 0x10812d810>"
      ]
     },
     "metadata": {},
     "output_type": "display_data"
    }
   ],
   "source": [
    "p1 = []\n",
    "p2 = []\n",
    "for i in range(len(idata1)):\n",
    "    p1.append(idata1[i][0])\n",
    "for i in range(len(idata2)):\n",
    "    p2.append(idata2[i][0])\n",
    "plt.plot(p1)\n",
    "plt.plot(p2)"
   ]
  },
  {
   "cell_type": "markdown",
   "metadata": {},
   "source": [
    "例３：次に相手の行動を完全には観測できない場合を考える。t期の相手の行動をt+1期にノイズが加わって知る。例えば、1期目に相手が協調したことを、確率90%で2期目に正しく知れるが、10%で裏切りと誤って伝わる場合である。\n"
   ]
  },
  {
   "cell_type": "markdown",
   "metadata": {},
   "source": [
    "ノイズは20%の確率で加わるものとする。その他の条件は例1と同じにした。"
   ]
  },
  {
   "cell_type": "code",
   "execution_count": 116,
   "metadata": {
    "collapsed": false
   },
   "outputs": [
    {
     "name": "stdout",
     "output_type": "stream",
     "text": [
      "0.18325162225 0.229439706952 [[1, 0], [0, 1], [1, 0], [1, 1], [0, 0], [0, 0], [0, 0], [0, 0], [1, 0], [0, 0], [1, 1], [0, 0], [0, 0], [0, 0], [0, 0], [0, 0], [1, 0], [1, 0], [0, 1], [0, 0], [0, 0]]\n"
     ]
    }
   ],
   "source": [
    "nn1 = RNN()\n",
    "nn1.set_network()\n",
    "nn2 = RNN()\n",
    "nn2.set_network()\n",
    "\n",
    "idata1 = [[1, 0]]\n",
    "idata2 = [[0, 1]]\n",
    "sdata1 = [[0]]\n",
    "sdata2 = [[1]]\n",
    "\n",
    "for t in range(20):\n",
    "    \n",
    "    for i in range(10):\n",
    "        nn1.main2(idata1, sdata2, 0.9)\n",
    "        nn2.main2(idata2, sdata1, 0.9)\n",
    "    \n",
    "    idata1.append([sdata1[-1][0], np.random.choice([sdata2[-1][0], 1-sdata2[-1][0]], p=[0.8, 0.2])])\n",
    "    idata2.append([sdata2[-1][0], np.random.choice([sdata1[-1][0], 1-sdata1[-1][0]], p=[0.8, 0.2])])\n",
    "                   \n",
    "    n1r = nn1.realize(idata1)\n",
    "    n2r = nn2.realize(idata1)\n",
    "    \n",
    "    prob1 = n1r \n",
    "    prob2 = n2r \n",
    "    \n",
    "    sdata1.append([np.random.choice([1, 0], p=[prob1, 1-prob1])])\n",
    "    \n",
    "    sdata2.append([np.random.choice([1, 0], p=[prob2, 1-prob2])])\n",
    "        \n",
    "idata.append([sdata1[-1][0], sdata2[-1][0]])\n",
    "print nn1.realize(idata1), nn2.realize(idata), idata1"
   ]
  },
  {
   "cell_type": "code",
   "execution_count": 117,
   "metadata": {
    "collapsed": false
   },
   "outputs": [
    {
     "data": {
      "text/plain": [
       "[<matplotlib.lines.Line2D at 0x1081db750>]"
      ]
     },
     "execution_count": 117,
     "metadata": {},
     "output_type": "execute_result"
    },
    {
     "data": {
      "image/png": "[encoded data removed]",
      "text/plain": [
       "<matplotlib.figure.Figure at 0x1081dbad0>"
      ]
     },
     "metadata": {},
     "output_type": "display_data"
    }
   ],
   "source": [
    "p1 = []\n",
    "p2 = []\n",
    "for i in range(len(idata1)):\n",
    "    p1.append(idata1[i][0])\n",
    "for i in range(len(idata2)):\n",
    "    p2.append(idata2[i][0])\n",
    "plt.plot(p1)\n",
    "plt.plot(p2)"
   ]
  },
  {
   "cell_type": "code",
   "execution_count": 88,
   "metadata": {
    "collapsed": false
   },
   "outputs": [
    {
     "name": "stdout",
     "output_type": "stream",
     "text": [
      "[[1], [1], [1], [1]] [[1], [1], [1], [1]]\n"
     ]
    }
   ],
   "source": [
    "print sdata1, sdata2"
   ]
  },
  {
   "cell_type": "code",
   "execution_count": null,
   "metadata": {
    "collapsed": true
   },
   "outputs": [],
   "source": []
  },
  {
   "cell_type": "code",
   "execution_count": 78,
   "metadata": {
    "collapsed": false
   },
   "outputs": [],
   "source": [
    "j = np.array([np.array([0])])\n",
    "j = np.append(j, np.array([1]))"
   ]
  },
  {
   "cell_type": "code",
   "execution_count": 79,
   "metadata": {
    "collapsed": false
   },
   "outputs": [
    {
     "data": {
      "text/plain": [
       "array([0, 1])"
      ]
     },
     "execution_count": 79,
     "metadata": {},
     "output_type": "execute_result"
    }
   ],
   "source": [
    "j"
   ]
  },
  {
   "cell_type": "code",
   "execution_count": null,
   "metadata": {
    "collapsed": true
   },
   "outputs": [],
   "source": []
  }
 ],
 "metadata": {
  "kernelspec": {
   "display_name": "Python 2",
   "language": "python",
   "name": "python2"
  },
  "language_info": {
   "codemirror_mode": {
    "name": "ipython",
    "version": 2
   },
   "file_extension": ".py",
   "mimetype": "text/x-python",
   "name": "python",
   "nbconvert_exporter": "python",
   "pygments_lexer": "ipython2",
   "version": "2.7.11"
  }
 },
 "nbformat": 4,
 "nbformat_minor": 0
}
