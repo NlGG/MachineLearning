{
 "cells": [
  {
   "cell_type": "code",
   "execution_count": 2,
   "metadata": {
    "collapsed": false
   },
   "outputs": [
    {
     "name": "stdout",
     "output_type": "stream",
     "text": [
      "データセットの点数: 1797\n",
      "各データの次元数: 64\n"
     ]
    },
    {
     "data": {
      "image/png": "[encoded data removed]",
      "text/plain": [
       "<matplotlib.figure.Figure at 0x107d17668>"
      ]
     },
     "metadata": {},
     "output_type": "display_data"
    }
   ],
   "source": [
    "%matplotlib inline\n",
    "\n",
    "from matplotlib import pyplot as plt\n",
    "from matplotlib import cm\n",
    "import numpy as np\n",
    "from sklearn import datasets\n",
    "\n",
    "\n",
    "def main():\n",
    "    digits = datasets.load_digits()\n",
    "    X = digits.data\n",
    "    y = digits.target\n",
    "\n",
    "    print('データセットの点数: {N}'.format(N=X.shape[0]))\n",
    "    print('各データの次元数: {dimension}'.format(dimension=X.shape[1]))\n",
    "\n",
    "    # データの中から 25 点を無作為に選び出す\n",
    "    p = np.random.random_integers(0, len(X), 25)\n",
    "\n",
    "    # 選んだデータとラベルを matplotlib で表示する\n",
    "    samples = np.array(list(zip(X, y)))[p]\n",
    "    for index, (data, label) in enumerate(samples):\n",
    "        # 画像データを 5x5 の格子状に配置する\n",
    "        plt.subplot(5, 5, index + 1)\n",
    "        # 軸に関する表示はいらない\n",
    "        plt.axis('off')\n",
    "        # データを 8x8 のグレースケール画像として表示する\n",
    "        plt.imshow(data.reshape(8, 8), cmap=cm.gray_r, interpolation='nearest')\n",
    "        # 画像データのタイトルに正解ラベルを表示する\n",
    "        plt.title(label, color='red')\n",
    "\n",
    "    # グラフを表示する\n",
    "    plt.show()\n",
    "\n",
    "\n",
    "if __name__ == '__main__':\n",
    "    main()"
   ]
  },
  {
   "cell_type": "code",
   "execution_count": 1,
   "metadata": {
    "collapsed": false
   },
   "outputs": [
    {
     "name": "stdout",
     "output_type": "stream",
     "text": [
      "正答率: 98.27%\n"
     ]
    }
   ],
   "source": [
    "from sklearn import datasets\n",
    "from sklearn import cross_validation\n",
    "from sklearn import svm\n",
    "from sklearn import metrics\n",
    "\n",
    "\n",
    "def main():\n",
    "    digits = datasets.load_digits()\n",
    "    X = digits.data\n",
    "    y = digits.target\n",
    "\n",
    "    scores = []\n",
    "    # K-fold 交差検証でアルゴリズムの汎化性能を調べる\n",
    "    kfold = cross_validation.KFold(len(X), n_folds=10)\n",
    "    for train, test in kfold:\n",
    "        # デフォルトのカーネルは rbf になっている\n",
    "        clf = svm.SVC(C=2**2, gamma=2**-11)\n",
    "        # 訓練データで学習する\n",
    "        clf.fit(X[train], y[train])\n",
    "        # テストデータの正答率を調べる\n",
    "        score = metrics.accuracy_score(clf.predict(X[test]), y[test])\n",
    "        scores.append(score)\n",
    "\n",
    "    # 最終的な正答率を出す\n",
    "    accuracy = (sum(scores) / len(scores)) * 100\n",
    "    msg = '正答率: {accuracy:.2f}%'.format(accuracy=accuracy)\n",
    "    print(msg)\n",
    "\n",
    "\n",
    "if __name__ == '__main__':\n",
    "    main()"
   ]
  },
  {
   "cell_type": "code",
   "execution_count": 4,
   "metadata": {
    "collapsed": false
   },
   "outputs": [
    {
     "name": "stdout",
     "output_type": "stream",
     "text": [
      "正答率 81.91% C=2^-5 gamma=2^-12\n",
      "正答率 90.09% C=2^-5 gamma=2^-11\n",
      "正答率 91.37% C=2^-5 gamma=2^-10\n",
      "正答率 79.74% C=2^-5 gamma=2^-9\n",
      "正答率 11.97% C=2^-5 gamma=2^-8\n",
      "正答率 10.02% C=2^-5 gamma=2^-7\n",
      "正答率 9.63% C=2^-5 gamma=2^-6\n",
      "正答率 91.21% C=2^-4 gamma=2^-12\n",
      "正答率 92.82% C=2^-4 gamma=2^-11\n",
      "正答率 94.04% C=2^-4 gamma=2^-10\n",
      "正答率 93.21% C=2^-4 gamma=2^-9\n",
      "正答率 33.67% C=2^-4 gamma=2^-8\n",
      "正答率 10.02% C=2^-4 gamma=2^-7\n",
      "正答率 9.63% C=2^-4 gamma=2^-6\n",
      "正答率 93.21% C=2^-3 gamma=2^-12\n",
      "正答率 95.10% C=2^-3 gamma=2^-11\n",
      "正答率 95.94% C=2^-3 gamma=2^-10\n",
      "正答率 95.32% C=2^-3 gamma=2^-9\n",
      "正答率 77.41% C=2^-3 gamma=2^-8\n",
      "正答率 11.30% C=2^-3 gamma=2^-7\n"
     ]
    },
    {
     "ename": "KeyboardInterrupt",
     "evalue": "",
     "output_type": "error",
     "traceback": [
      "\u001b[0;31m---------------------------------------------------------------------------\u001b[0m",
      "\u001b[0;31mKeyboardInterrupt\u001b[0m                         Traceback (most recent call last)",
      "\u001b[0;32m<ipython-input-4-fe15799810d2>\u001b[0m in \u001b[0;36m<module>\u001b[0;34m()\u001b[0m\n\u001b[1;32m     57\u001b[0m \u001b[0;34m\u001b[0m\u001b[0m\n\u001b[1;32m     58\u001b[0m \u001b[0;32mif\u001b[0m \u001b[0m__name__\u001b[0m \u001b[0;34m==\u001b[0m \u001b[0;34m'__main__'\u001b[0m\u001b[0;34m:\u001b[0m\u001b[0;34m\u001b[0m\u001b[0m\n\u001b[0;32m---> 59\u001b[0;31m     \u001b[0mmain\u001b[0m\u001b[0;34m(\u001b[0m\u001b[0;34m)\u001b[0m\u001b[0;34m\u001b[0m\u001b[0m\n\u001b[0m",
      "\u001b[0;32m<ipython-input-4-fe15799810d2>\u001b[0m in \u001b[0;36mmain\u001b[0;34m()\u001b[0m\n\u001b[1;32m     42\u001b[0m             \u001b[0mclf\u001b[0m \u001b[0;34m=\u001b[0m \u001b[0msvm\u001b[0m\u001b[0;34m.\u001b[0m\u001b[0mSVC\u001b[0m\u001b[0;34m(\u001b[0m\u001b[0mC\u001b[0m\u001b[0;34m=\u001b[0m\u001b[0mC\u001b[0m\u001b[0;34m,\u001b[0m \u001b[0mgamma\u001b[0m\u001b[0;34m=\u001b[0m\u001b[0mgamma\u001b[0m\u001b[0;34m)\u001b[0m\u001b[0;34m\u001b[0m\u001b[0m\n\u001b[1;32m     43\u001b[0m             \u001b[0;31m# 学習する\u001b[0m\u001b[0;34m\u001b[0m\u001b[0;34m\u001b[0m\u001b[0m\n\u001b[0;32m---> 44\u001b[0;31m             \u001b[0mclf\u001b[0m\u001b[0;34m.\u001b[0m\u001b[0mfit\u001b[0m\u001b[0;34m(\u001b[0m\u001b[0mX\u001b[0m\u001b[0;34m[\u001b[0m\u001b[0mtrain\u001b[0m\u001b[0;34m]\u001b[0m\u001b[0;34m,\u001b[0m \u001b[0my\u001b[0m\u001b[0;34m[\u001b[0m\u001b[0mtrain\u001b[0m\u001b[0;34m]\u001b[0m\u001b[0;34m)\u001b[0m\u001b[0;34m\u001b[0m\u001b[0m\n\u001b[0m\u001b[1;32m     45\u001b[0m             \u001b[0;31m# 検証する\u001b[0m\u001b[0;34m\u001b[0m\u001b[0;34m\u001b[0m\u001b[0m\n\u001b[1;32m     46\u001b[0m             \u001b[0mscore\u001b[0m \u001b[0;34m=\u001b[0m \u001b[0mmetrics\u001b[0m\u001b[0;34m.\u001b[0m\u001b[0maccuracy_score\u001b[0m\u001b[0;34m(\u001b[0m\u001b[0mclf\u001b[0m\u001b[0;34m.\u001b[0m\u001b[0mpredict\u001b[0m\u001b[0;34m(\u001b[0m\u001b[0mX\u001b[0m\u001b[0;34m[\u001b[0m\u001b[0mtest\u001b[0m\u001b[0;34m]\u001b[0m\u001b[0;34m)\u001b[0m\u001b[0;34m,\u001b[0m \u001b[0my\u001b[0m\u001b[0;34m[\u001b[0m\u001b[0mtest\u001b[0m\u001b[0;34m]\u001b[0m\u001b[0;34m)\u001b[0m\u001b[0;34m\u001b[0m\u001b[0m\n",
      "\u001b[0;32m/Library/Frameworks/Python.framework/Versions/3.5/lib/python3.5/site-packages/sklearn/svm/base.py\u001b[0m in \u001b[0;36mfit\u001b[0;34m(self, X, y, sample_weight)\u001b[0m\n\u001b[1;32m    191\u001b[0m \u001b[0;34m\u001b[0m\u001b[0m\n\u001b[1;32m    192\u001b[0m         \u001b[0mseed\u001b[0m \u001b[0;34m=\u001b[0m \u001b[0mrnd\u001b[0m\u001b[0;34m.\u001b[0m\u001b[0mrandint\u001b[0m\u001b[0;34m(\u001b[0m\u001b[0mnp\u001b[0m\u001b[0;34m.\u001b[0m\u001b[0miinfo\u001b[0m\u001b[0;34m(\u001b[0m\u001b[0;34m'i'\u001b[0m\u001b[0;34m)\u001b[0m\u001b[0;34m.\u001b[0m\u001b[0mmax\u001b[0m\u001b[0;34m)\u001b[0m\u001b[0;34m\u001b[0m\u001b[0m\n\u001b[0;32m--> 193\u001b[0;31m         \u001b[0mfit\u001b[0m\u001b[0;34m(\u001b[0m\u001b[0mX\u001b[0m\u001b[0;34m,\u001b[0m \u001b[0my\u001b[0m\u001b[0;34m,\u001b[0m \u001b[0msample_weight\u001b[0m\u001b[0;34m,\u001b[0m \u001b[0msolver_type\u001b[0m\u001b[0;34m,\u001b[0m \u001b[0mkernel\u001b[0m\u001b[0;34m,\u001b[0m \u001b[0mrandom_seed\u001b[0m\u001b[0;34m=\u001b[0m\u001b[0mseed\u001b[0m\u001b[0;34m)\u001b[0m\u001b[0;34m\u001b[0m\u001b[0m\n\u001b[0m\u001b[1;32m    194\u001b[0m         \u001b[0;31m# see comment on the other call to np.iinfo in this file\u001b[0m\u001b[0;34m\u001b[0m\u001b[0;34m\u001b[0m\u001b[0m\n\u001b[1;32m    195\u001b[0m \u001b[0;34m\u001b[0m\u001b[0m\n",
      "\u001b[0;32m/Library/Frameworks/Python.framework/Versions/3.5/lib/python3.5/site-packages/sklearn/svm/base.py\u001b[0m in \u001b[0;36m_dense_fit\u001b[0;34m(self, X, y, sample_weight, solver_type, kernel, random_seed)\u001b[0m\n\u001b[1;32m    249\u001b[0m                 \u001b[0mcache_size\u001b[0m\u001b[0;34m=\u001b[0m\u001b[0mself\u001b[0m\u001b[0;34m.\u001b[0m\u001b[0mcache_size\u001b[0m\u001b[0;34m,\u001b[0m \u001b[0mcoef0\u001b[0m\u001b[0;34m=\u001b[0m\u001b[0mself\u001b[0m\u001b[0;34m.\u001b[0m\u001b[0mcoef0\u001b[0m\u001b[0;34m,\u001b[0m\u001b[0;34m\u001b[0m\u001b[0m\n\u001b[1;32m    250\u001b[0m                 \u001b[0mgamma\u001b[0m\u001b[0;34m=\u001b[0m\u001b[0mself\u001b[0m\u001b[0;34m.\u001b[0m\u001b[0m_gamma\u001b[0m\u001b[0;34m,\u001b[0m \u001b[0mepsilon\u001b[0m\u001b[0;34m=\u001b[0m\u001b[0mself\u001b[0m\u001b[0;34m.\u001b[0m\u001b[0mepsilon\u001b[0m\u001b[0;34m,\u001b[0m\u001b[0;34m\u001b[0m\u001b[0m\n\u001b[0;32m--> 251\u001b[0;31m                 max_iter=self.max_iter, random_seed=random_seed)\n\u001b[0m\u001b[1;32m    252\u001b[0m \u001b[0;34m\u001b[0m\u001b[0m\n\u001b[1;32m    253\u001b[0m         \u001b[0mself\u001b[0m\u001b[0;34m.\u001b[0m\u001b[0m_warn_from_fit_status\u001b[0m\u001b[0;34m(\u001b[0m\u001b[0;34m)\u001b[0m\u001b[0;34m\u001b[0m\u001b[0m\n",
      "\u001b[0;31mKeyboardInterrupt\u001b[0m: "
     ]
    }
   ],
   "source": [
    "import itertools\n",
    "import operator\n",
    "\n",
    "from sklearn import datasets\n",
    "from sklearn import cross_validation\n",
    "from sklearn import svm\n",
    "from sklearn import metrics\n",
    "\n",
    "\n",
    "def _print_result(percentage, C_n, gamma_n):\n",
    "    \"\"\" 正答率とそれに使われたパラメータを出力する \"\"\"\n",
    "    msg = '正答率 {percentage:.2f}% C=2^{C} gamma=2^{gamma}'.format(\n",
    "        percentage=percentage,\n",
    "        C=C_n,\n",
    "        gamma=gamma_n,\n",
    "    )\n",
    "    print(msg)\n",
    "\n",
    "\n",
    "def main():\n",
    "    # 数値画像のデータを読み込む\n",
    "    digits = datasets.load_digits()\n",
    "    X = digits.data\n",
    "    y = digits.target\n",
    "\n",
    "    # パラメータ C の候補 (2^-5 ~ 2^5)\n",
    "    Cs = [(2 ** i, i) for i in range(-5, 5)]\n",
    "    # パラメータ gamma の候補 (2^-12 ~ 2^-5)\n",
    "    gammas = [(2 ** i, i) for i in range(-12, -5)]  # 2^-12 ~ 2^-5\n",
    "    # 上記のパラメータが取りうる組み合わせ (デカルト積) を作る\n",
    "    parameters = itertools.product(Cs, gammas)\n",
    "\n",
    "    results = []\n",
    "    # 各組み合わせで正答率にどういった変化があるかを調べていく\n",
    "    for (C, C_n), (gamma, gamma_n) in parameters:\n",
    "        scores = []\n",
    "        # 正答率は K-fold 交差検定 (10 分割) で計算する\n",
    "        kfold = cross_validation.KFold(len(X), n_folds=10)\n",
    "        # 教師信号を学習用と検証用に分割する\n",
    "        for train, test in kfold:\n",
    "            # 前述したパラメータを使って SVM (RBF カーネル) を初期化する\n",
    "            clf = svm.SVC(C=C, gamma=gamma)\n",
    "            # 学習する\n",
    "            clf.fit(X[train], y[train])\n",
    "            # 検証する\n",
    "            score = metrics.accuracy_score(clf.predict(X[test]), y[test])\n",
    "            scores.append(score)\n",
    "        # 正答率をパーセンテージにしてパラメータと共に表示する\n",
    "        percentage = (sum(scores) / len(scores)) * 100\n",
    "        results.append((percentage, C_n, gamma_n))\n",
    "        _print_result(*results[-1])\n",
    "\n",
    "    # 正答率の最も高かったパラメータを出力する\n",
    "    sorted_result = sorted(results, key=operator.itemgetter(0), reverse=True)\n",
    "    print('--- 最適なパラメータ ---')\n",
    "    _print_result(*sorted_result[0])\n",
    "\n",
    "if __name__ == '__main__':\n",
    "    main()"
   ]
  },
  {
   "cell_type": "code",
   "execution_count": 5,
   "metadata": {
    "collapsed": false
   },
   "outputs": [
    {
     "data": {
      "image/png": "[encoded data removed]",
      "text/plain": [
       "<matplotlib.figure.Figure at 0x1102d7d30>"
      ]
     },
     "metadata": {},
     "output_type": "display_data"
    }
   ],
   "source": [
    "import numpy as np\n",
    "import matplotlib.pyplot as plt\n",
    "from sklearn import datasets\n",
    "from sklearn import svm\n",
    "\n",
    "\n",
    "def main():\n",
    "    # Iris データセットを使う\n",
    "    iris = datasets.load_iris()\n",
    "    features = iris.data\n",
    "    target = iris.target\n",
    "    target_names = iris.target_names\n",
    "    labels = target_names[target]\n",
    "\n",
    "    # Petal length と Petal width を特徴量として取り出す\n",
    "    setosa_petal_length = features[labels == 'setosa', 2]\n",
    "    setosa_petal_width = features[labels == 'setosa', 3]\n",
    "    setosa = np.c_[setosa_petal_length, setosa_petal_width]\n",
    "    versicolor_petal_length = features[labels == 'versicolor', 2]\n",
    "    versicolor_petal_width = features[labels == 'versicolor', 3]\n",
    "    versicolor = np.c_[versicolor_petal_length, versicolor_petal_width]\n",
    "    virginica_petal_length = features[labels == 'virginica', 2]\n",
    "    virginica_petal_width = features[labels == 'virginica', 3]\n",
    "    virginica = np.c_[virginica_petal_length, virginica_petal_width]\n",
    "\n",
    "    # 教師信号を作る\n",
    "    training_data = np.r_[setosa, versicolor, virginica]\n",
    "    training_labels = np.r_[\n",
    "        np.zeros(len(setosa)),\n",
    "        np.ones(len(versicolor)),\n",
    "        np.ones(len(versicolor)) * 2,\n",
    "    ]\n",
    "\n",
    "    # グラフのサイズを指定する\n",
    "    plt.figure(figsize=(12, 8))\n",
    "\n",
    "    # カーネル関数の種類を羅列する\n",
    "    kernels = [\n",
    "        'linear',\n",
    "        'poly',\n",
    "        'rbf',\n",
    "        'sigmoid',\n",
    "    ]\n",
    "    for index, kernel in enumerate(kernels):\n",
    "        plt.subplot(2, 2, index + 1)\n",
    "        plt.title(kernel)\n",
    "\n",
    "        # 教師信号をプロットする\n",
    "        plt.scatter(setosa[:, 0], setosa[:, 1], color='red')\n",
    "        plt.scatter(versicolor[:, 0], versicolor[:, 1], color='blue')\n",
    "        plt.scatter(virginica[:, 0], virginica[:, 1], color='green')\n",
    "\n",
    "        # 教師信号で学習する\n",
    "        clf = svm.SVC(kernel=kernel)\n",
    "        clf.fit(training_data, training_labels)\n",
    "\n",
    "        # データの範囲でメッシュ状に点を取る\n",
    "        training_x_min = training_data[:, 0].min() - 1\n",
    "        training_x_max = training_data[:, 0].max() + 1\n",
    "        training_y_min = training_data[:, 1].min() - 1\n",
    "        training_y_max = training_data[:, 1].max() + 1\n",
    "        grid_interval = 0.02\n",
    "        xx, yy = np.meshgrid(\n",
    "            np.arange(training_x_min, training_x_max, grid_interval),\n",
    "            np.arange(training_y_min, training_y_max, grid_interval),\n",
    "        )\n",
    "\n",
    "        # 各点を分類する\n",
    "        Z = clf.predict(np.c_[xx.ravel(), yy.ravel()])\n",
    "\n",
    "        # 分類結果を表示する\n",
    "        Z = Z.reshape(xx.shape)\n",
    "        plt.contourf(xx, yy, Z, cmap=plt.cm.bone, alpha=0.2)\n",
    "\n",
    "    # グラフを表示する\n",
    "    plt.autoscale()\n",
    "    plt.grid()\n",
    "    plt.show()\n",
    "\n",
    "if __name__ == '__main__':\n",
    "    main()"
   ]
  },
  {
   "cell_type": "code",
   "execution_count": null,
   "metadata": {
    "collapsed": true
   },
   "outputs": [],
   "source": []
  }
 ],
 "metadata": {
  "kernelspec": {
   "display_name": "Python 3",
   "language": "python",
   "name": "python3"
  },
  "language_info": {
   "codemirror_mode": {
    "name": "ipython",
    "version": 3
   },
   "file_extension": ".py",
   "mimetype": "text/x-python",
   "name": "python",
   "nbconvert_exporter": "python",
   "pygments_lexer": "ipython3",
   "version": "3.5.1"
  }
 },
 "nbformat": 4,
 "nbformat_minor": 0
}
