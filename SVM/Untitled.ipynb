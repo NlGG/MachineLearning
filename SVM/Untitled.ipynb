{
 "cells": [
  {
   "cell_type": "code",
   "execution_count": 48,
   "metadata": {
    "collapsed": false
   },
   "outputs": [],
   "source": [
    "%matplotlib inline\n",
    "\n",
    "import numpy as np\n",
    "import matplotlib.pyplot as plt\n",
    "from sklearn import datasets\n",
    "from sklearn import svm\n",
    "\n",
    "iris = datasets.load_iris()"
   ]
  },
  {
   "cell_type": "code",
   "execution_count": 10,
   "metadata": {
    "collapsed": false
   },
   "outputs": [],
   "source": [
    "features = iris.data\n",
    "target = iris.target\n",
    "target_names = iris.target_names\n",
    "labels = target_names[target]"
   ]
  },
  {
   "cell_type": "code",
   "execution_count": 41,
   "metadata": {
    "collapsed": false
   },
   "outputs": [],
   "source": [
    "iris_list = []\n",
    "for i in range(len(features)):\n",
    "    iris_list.append([labels[i], features[i]])"
   ]
  },
  {
   "cell_type": "code",
   "execution_count": 58,
   "metadata": {
    "collapsed": false
   },
   "outputs": [
    {
     "data": {
      "text/plain": [
       "[<matplotlib.lines.Line2D at 0x11d26d860>]"
      ]
     },
     "execution_count": 58,
     "metadata": {},
     "output_type": "execute_result"
    },
    {
     "data": {
      "image/png": "[encoded data removed]",
      "text/plain": [
       "<matplotlib.figure.Figure at 0x11d1032b0>"
      ]
     },
     "metadata": {},
     "output_type": "display_data"
    }
   ],
   "source": [
    "setosa_x = []\n",
    "setosa_y = []\n",
    "virginica_x = []\n",
    "virginica_y = []\n",
    "versicolor_x = []\n",
    "versicolor_y = []\n",
    "\n",
    "for i in range(len(iris_list)):\n",
    "    if iris_list[i][0] == 'setosa':\n",
    "        setosa_x.append(iris_list[i][1][1])\n",
    "        setosa_y.append(iris_list[i][1][2])\n",
    "    elif iris_list[i][0] == 'virginica':\n",
    "        virginica_x.append(iris_list[i][1][1])\n",
    "        virginica_y.append(iris_list[i][1][2])\n",
    "    else:\n",
    "        versicolor_x.append(iris_list[i][1][1])\n",
    "        versicolor_y.append(iris_list[i][1][2])\n",
    "\n",
    "plt.plot(setosa_x, setosa_y, 'ro')\n",
    "plt.plot(virginica_x, virginica_y, 'bo')\n",
    "plt.plot(versicolor_x,versicolor_y, 'go')"
   ]
  },
  {
   "cell_type": "code",
   "execution_count": 22,
   "metadata": {
    "collapsed": false
   },
   "outputs": [
    {
     "data": {
      "text/plain": [
       "'setosa'"
      ]
     },
     "execution_count": 22,
     "metadata": {},
     "output_type": "execute_result"
    }
   ],
   "source": [
    "print"
   ]
  },
  {
   "cell_type": "code",
   "execution_count": 52,
   "metadata": {
    "collapsed": false
   },
   "outputs": [
    {
     "data": {
      "text/plain": [
       "array(['setosa', 'versicolor', 'virginica'], \n",
       "      dtype='<U10')"
      ]
     },
     "execution_count": 52,
     "metadata": {},
     "output_type": "execute_result"
    }
   ],
   "source": [
    "target_names"
   ]
  },
  {
   "cell_type": "code",
   "execution_count": null,
   "metadata": {
    "collapsed": true
   },
   "outputs": [],
   "source": [
    "etosa_x.append(iris_list[i][1][1])\n",
    "        setosa_y.append(iris_list[i][1][2])"
   ]
  }
 ],
 "metadata": {
  "kernelspec": {
   "display_name": "Python 3",
   "language": "python",
   "name": "python3"
  },
  "language_info": {
   "codemirror_mode": {
    "name": "ipython",
    "version": 3
   },
   "file_extension": ".py",
   "mimetype": "text/x-python",
   "name": "python",
   "nbconvert_exporter": "python",
   "pygments_lexer": "ipython3",
   "version": "3.5.1"
  }
 },
 "nbformat": 4,
 "nbformat_minor": 0
}
