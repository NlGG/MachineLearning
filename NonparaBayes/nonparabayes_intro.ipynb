{
 "cells": [
  {
   "cell_type": "code",
   "execution_count": 55,
   "metadata": {
    "collapsed": false
   },
   "outputs": [],
   "source": [
    "%matplotlib inline\n",
    "\n",
    "import numpy as np\n",
    "import math\n",
    "from scipy.integrate import quad\n",
    "import scipy.stats as ss\n",
    "import matplotlib.pyplot as plt\n",
    "import matplotlib.tri as tri\n",
    "from functools import reduce"
   ]
  },
  {
   "cell_type": "markdown",
   "metadata": {},
   "source": [
    "# ノンパラメトリックベイズモデル入門からクラスタリングへの応用"
   ]
  },
  {
   "cell_type": "markdown",
   "metadata": {
    "collapsed": false
   },
   "source": [
    "scikit learnのGaussian Mixture Modelの解説ページ  \n",
    "http://scikit-learn.org/stable/auto_examples/mixture/plot_gmm.html#example-mixture-plot-gmm-py  \n",
    "Dirichlet Distributions with Matplotlib  \n",
    "http://blog.bogatron.net/blog/2014/02/02/visualizing-dirichlet-distributions/  \n",
    "東京で働くデータサイエンティストのブログ：パッケージユーザーのための機械学習(9)：混合ディリクレ過程\n",
    "http://tjo.hatenablog.com/entry/2014/06/12/190319"
   ]
  },
  {
   "cell_type": "markdown",
   "metadata": {},
   "source": [
    "## 0 導入"
   ]
  },
  {
   "cell_type": "markdown",
   "metadata": {},
   "source": [
    "### 0.1 クラスタリングと混合ガウス分布"
   ]
  },
  {
   "cell_type": "markdown",
   "metadata": {},
   "source": [
    "K-平均アルゴリズムとは以下の最適化問題を解くことである.  \n",
    "$$(z^*_{1:n}, \\mu^*_{1:K})=arg min_{z_{1:n}, \\mu_{1:K}}\\sum^n_{i=1}\\sum^K_{k=1}\\delta(z_i = k)||x_i-\\mu_k||^2$$  \n",
    "この目的関数は、  \n",
    "$$(z^*_{1:n}, \\mu^*_{1:K})=arg min_{z_{1:n}, \\mu_{1:K}}log\\Pi^n_{i=1}N(x_i|\\mu_{z_i},I)$$  \n",
    "と書き換えることができる."
   ]
  },
  {
   "cell_type": "markdown",
   "metadata": {},
   "source": [
    "（注）上の変形は、\n",
    "$$\\sum^n_{i=1}\\sum^K_{k=1}\\delta(z_i = k)||x_i-\\mu_k||^2 \\\\\n",
    "\\propto -\\sum^n_{i=1}\\sum^K_{k=1}\\delta(z_i = k)(-\\frac{1}{2}||x_i-\\mu_k||^2) \\\\\n",
    "= -(nDlog(\\sqrt{2\\pi}+\\sum^n_{i=1}\\sum^K_{k=1}\\delta(z_i = k)logN(\\bf{x}_i|\\bf{\\mu}_k, \\bf{I})) \\\\\n",
    "= -(nDlog(\\sqrt{2\\pi}+log\\Pi^n_{i=1}N(\\bf{x}_i|\\bf{\\mu}_{zi},\\bf{I}))\n",
    "$$\n",
    "による。2段目の変形はlog(Aexp(B))を考えればよい。"
   ]
  },
  {
   "cell_type": "code",
   "execution_count": 233,
   "metadata": {
    "collapsed": true
   },
   "outputs": [],
   "source": [
    "def xy2bc(xy, tol=1.e-3):\n",
    "    '''Converts 2D Cartesian coordinates to barycentric.'''\n",
    "    s = [(corners[i] - midpoints[i]).dot(xy - midpoints[i]) / 0.75 for i in range(3)]\n",
    "    return np.clip(s, tol, 1.0 - tol)"
   ]
  },
  {
   "cell_type": "code",
   "execution_count": 234,
   "metadata": {
    "collapsed": true
   },
   "outputs": [],
   "source": [
    "class Dirichlet(object):\n",
    "    def __init__(self, alpha):\n",
    "        from math import gamma\n",
    "        from operator import mul\n",
    "        self._alpha = np.array(alpha)\n",
    "        self._coef = gamma(np.sum(self._alpha)) / reduce(mul, [gamma(a) for a in self._alpha])\n",
    "    def pdf(self, x):\n",
    "        '''Returns pdf value for `x`.'''\n",
    "        from operator import mul\n",
    "        return self._coef * reduce(mul, [xx ** (aa - 1)\n",
    "                                         for (xx, aa)in zip(x, self._alpha)])"
   ]
  },
  {
   "cell_type": "code",
   "execution_count": 235,
   "metadata": {
    "collapsed": false
   },
   "outputs": [],
   "source": [
    "def draw_pdf_contours(dist, nlevels=200, subdiv=8, **kwargs):\n",
    "    import math\n",
    "\n",
    "    refiner = tri.UniformTriRefiner(triangle)\n",
    "    trimesh = refiner.refine_triangulation(subdiv=subdiv)\n",
    "    pvals = [dist.pdf(xy2bc(xy)) for xy in zip(trimesh.x, trimesh.y)]\n",
    "\n",
    "    plt.tricontourf(trimesh, pvals, nlevels, **kwargs)\n",
    "    plt.axis('equal')\n",
    "    plt.xlim(0, 1)\n",
    "    plt.ylim(0, 0.75**0.5)\n",
    "    plt.axis('off')"
   ]
  },
  {
   "cell_type": "code",
   "execution_count": 240,
   "metadata": {
    "collapsed": false
   },
   "outputs": [
    {
     "data": {
      "image/png": "[encoded data removed]",
      "text/plain": [
       "<matplotlib.figure.Figure at 0x112271048>"
      ]
     },
     "metadata": {},
     "output_type": "display_data"
    }
   ],
   "source": [
    "plt.figure(figsize=(8, 4))\n",
    "draw_pdf_contours(Dirichlet([1, 1, 1]))"
   ]
  },
  {
   "cell_type": "code",
   "execution_count": 244,
   "metadata": {
    "collapsed": false
   },
   "outputs": [
    {
     "data": {
      "image/png": "[encoded data removed]",
      "text/plain": [
       "<matplotlib.figure.Figure at 0x1142e3080>"
      ]
     },
     "metadata": {},
     "output_type": "display_data"
    }
   ],
   "source": [
    "plt.figure(figsize=(8, 4))\n",
    "draw_pdf_contours(Dirichlet([0.8, 0.8, 0.8]))"
   ]
  },
  {
   "cell_type": "markdown",
   "metadata": {},
   "source": [
    "混合ガウスモデルの例.  \n",
    "この[ページ](http://scikit-learn.org/stable/auto_examples/mixture/plot_gmm.html#example-mixture-plot-gmm-py)のコードを実行."
   ]
  },
  {
   "cell_type": "code",
   "execution_count": 56,
   "metadata": {
    "collapsed": false
   },
   "outputs": [
    {
     "data": {
      "image/png": "[encoded data removed]",
      "text/plain": [
       "<matplotlib.figure.Figure at 0x10e7441d0>"
      ]
     },
     "metadata": {},
     "output_type": "display_data"
    }
   ],
   "source": [
    "import itertools\n",
    "\n",
    "import numpy as np\n",
    "from scipy import linalg\n",
    "import matplotlib.pyplot as plt\n",
    "import matplotlib as mpl\n",
    "\n",
    "from sklearn import mixture\n",
    "\n",
    "# Number of samples per component\n",
    "n_samples = 500\n",
    "\n",
    "# Generate random sample, two components\n",
    "np.random.seed(0)\n",
    "C = np.array([[0., -0.1], [1.7, .4]])\n",
    "X = np.r_[np.dot(np.random.randn(n_samples, 2), C),\n",
    "          .7 * np.random.randn(n_samples, 2) + np.array([-6, 3])]\n",
    "\n",
    "# Fit a mixture of Gaussians with EM using five components\n",
    "gmm = mixture.GMM(n_components=5, covariance_type='full')\n",
    "gmm.fit(X)\n",
    "\n",
    "# Fit a Dirichlet process mixture of Gaussians using five components\n",
    "dpgmm = mixture.DPGMM(n_components=5, covariance_type='full')\n",
    "dpgmm.fit(X)\n",
    "\n",
    "color_iter = itertools.cycle(['r', 'g', 'b', 'c', 'm'])\n",
    "\n",
    "for i, (clf, title) in enumerate([(gmm, 'GMM'),\n",
    "                                  (dpgmm, 'Dirichlet Process GMM')]):\n",
    "    splot = plt.subplot(2, 1, 1 + i)\n",
    "    Y_ = clf.predict(X)\n",
    "    for i, (mean, covar, color) in enumerate(zip(\n",
    "            clf.means_, clf._get_covars(), color_iter)):\n",
    "        v, w = linalg.eigh(covar)\n",
    "        u = w[0] / linalg.norm(w[0])\n",
    "        # as the DP will not use every component it has access to\n",
    "        # unless it needs it, we shouldn't plot the redundant\n",
    "        # components.\n",
    "        if not np.any(Y_ == i):\n",
    "            continue\n",
    "        plt.scatter(X[Y_ == i, 0], X[Y_ == i, 1], .8, color=color)\n",
    "\n",
    "        # Plot an ellipse to show the Gaussian component\n",
    "        angle = np.arctan(u[1] / u[0])\n",
    "        angle = 180 * angle / np.pi  # convert to degrees\n",
    "        ell = mpl.patches.Ellipse(mean, v[0], v[1], 180 + angle, color=color)\n",
    "        ell.set_clip_box(splot.bbox)\n",
    "        ell.set_alpha(0.5)\n",
    "        splot.add_artist(ell)\n",
    "\n",
    "    plt.xlim(-10, 10)\n",
    "    plt.ylim(-3, 6)\n",
    "    plt.xticks(())\n",
    "    plt.yticks(())\n",
    "    plt.title(title)\n",
    "\n",
    "plt.show()"
   ]
  },
  {
   "cell_type": "code",
   "execution_count": 9,
   "metadata": {
    "collapsed": false
   },
   "outputs": [
    {
     "data": {
      "image/png": "[encoded data removed]",
      "text/plain": [
       "<matplotlib.figure.Figure at 0x1140e3198>"
      ]
     },
     "metadata": {},
     "output_type": "display_data"
    }
   ],
   "source": [
    "import itertools\n",
    "\n",
    "import numpy as np\n",
    "from scipy import linalg\n",
    "import matplotlib.pyplot as plt\n",
    "import matplotlib as mpl\n",
    "\n",
    "from sklearn import mixture\n",
    "from sklearn.externals.six.moves import xrange\n",
    "\n",
    "# Number of samples per component\n",
    "n_samples = 100\n",
    "\n",
    "# Generate random sample following a sine curve\n",
    "np.random.seed(0)\n",
    "X = np.zeros((n_samples, 2))\n",
    "step = 4 * np.pi / n_samples\n",
    "\n",
    "for i in xrange(X.shape[0]):\n",
    "    x = i * step - 6\n",
    "    X[i, 0] = x + np.random.normal(0, 0.1)\n",
    "    X[i, 1] = 3 * (np.sin(x) + np.random.normal(0, .2))\n",
    "\n",
    "\n",
    "color_iter = itertools.cycle(['r', 'g', 'b', 'c', 'm'])\n",
    "\n",
    "\n",
    "for i, (clf, title) in enumerate([\n",
    "        (mixture.GMM(n_components=10, covariance_type='full', n_iter=100),\n",
    "         \"Expectation-maximization\"),\n",
    "        (mixture.DPGMM(n_components=10, covariance_type='full', alpha=0.01,\n",
    "                       n_iter=100),\n",
    "         \"Dirichlet Process,alpha=0.01\"),\n",
    "        (mixture.DPGMM(n_components=10, covariance_type='diag', alpha=100.,\n",
    "                       n_iter=100),\n",
    "         \"Dirichlet Process,alpha=100.\")]):\n",
    "\n",
    "    clf.fit(X)\n",
    "    splot = plt.subplot(3, 1, 1 + i)\n",
    "    Y_ = clf.predict(X)\n",
    "    for i, (mean, covar, color) in enumerate(zip(\n",
    "            clf.means_, clf._get_covars(), color_iter)):\n",
    "        v, w = linalg.eigh(covar)\n",
    "        u = w[0] / linalg.norm(w[0])\n",
    "        # as the DP will not use every component it has access to\n",
    "        # unless it needs it, we shouldn't plot the redundant\n",
    "        # components.\n",
    "        if not np.any(Y_ == i):\n",
    "            continue\n",
    "        plt.scatter(X[Y_ == i, 0], X[Y_ == i, 1], .8, color=color)\n",
    "\n",
    "        # Plot an ellipse to show the Gaussian component\n",
    "        angle = np.arctan(u[1] / u[0])\n",
    "        angle = 180 * angle / np.pi  # convert to degrees\n",
    "        ell = mpl.patches.Ellipse(mean, v[0], v[1], 180 + angle, color=color)\n",
    "        ell.set_clip_box(splot.bbox)\n",
    "        ell.set_alpha(0.5)\n",
    "        splot.add_artist(ell)\n",
    "\n",
    "    plt.xlim(-6, 4 * np.pi - 6)\n",
    "    plt.ylim(-5, 5)\n",
    "    plt.title(title)\n",
    "    plt.xticks(())\n",
    "    plt.yticks(())\n",
    "\n",
    "plt.show()"
   ]
  },
  {
   "cell_type": "markdown",
   "metadata": {},
   "source": [
    "## 1 ディリクレ過程混合モデル"
   ]
  },
  {
   "cell_type": "markdown",
   "metadata": {},
   "source": [
    "仮定  \n",
    "$$z_i\\sim Multi(\\pi)(i=1,...,n), \\pi \\sim Dir(\\alpha), \\alpha_k = \\alpha/K$$"
   ]
  },
  {
   "cell_type": "markdown",
   "metadata": {},
   "source": [
    "### 1.1 ディリクレ分布"
   ]
  },
  {
   "cell_type": "markdown",
   "metadata": {},
   "source": [
    "N次元確率ベクトルの集合を  \n",
    "$$\\triangle^K=Bigl\\{\\pi = (\\pi_1, \\pi_2, ..., \\pi_K|\\sum^K_{k=1}=1, \\pi_k≥0 ~~ \\forall k$$\n",
    "とする。ディリクレ分布はこのような$\\triangle^K$上の確率分布としてしばしば使われ、その密度関数は、  \n",
    "$$ Dir(\\pi|\\alpha)\\equiv\\frac{\\Gamma(\\sum^K_{k=1}\\alpha_k}{\\Pi^K_{k=1}\\Gamma(\\alpha_k)}\\Pi^K_{k=1}\\pi^{\\alpha_k-1}_k$$"
   ]
  },
  {
   "cell_type": "markdown",
   "metadata": {},
   "source": [
    "### 1.2 多項分布  "
   ]
  },
  {
   "cell_type": "markdown",
   "metadata": {},
   "source": [
    "xをK種類の値{1,2,...,K}をとる確率変数とする.  \n",
    "それぞれの値をとる確率を$\\pi=(\\pi_a, \\pi_2,...,\\pi_K)(\\sum^K_{k=1}\\pi_k =1)$とする.  \n",
    "n回の独立した試行を考え、$x_i = k$により、i回目の試行における値がkであることを示すとする.  \n",
    "$n_k$でkという値が出た回数を表現する.  \n",
    "$\\pi$が与えられたもとで、$x_i=k$である確率は$p(x_i=k|\\pi)=\\pi_k$となる.  \n",
    "このとき、$\\pi$が与えられたもとでの$x={x_1, x_2,...,x_n}$の確率は、  \n",
    "$$p(x|\\pi)=\\Pi^n_{i=1}p(x_i|\\pi)=\\Pi^K_{k=1}\\pi^{n_k}_k$$\n",
    "と計算できる."
   ]
  },
  {
   "cell_type": "markdown",
   "metadata": {},
   "source": [
    "各試行における値ではなく、n回の試行における各値の出現回数"
   ]
  },
  {
   "cell_type": "markdown",
   "metadata": {},
   "source": [
    "### 1.3 ディリクレ分布の性質"
   ]
  },
  {
   "cell_type": "markdown",
   "metadata": {},
   "source": [
    "$Dir(\\pi|\\alpha/K)$の二つの性質.  \n",
    "(1)各kで$\\alpha_k$が同じ値であるため、事前分布としてはkに区別はない.  \n",
    "(2)次元Kが大きくなるにしたがって、ディリクレ分布のパラメータ$\\alpha_k$は小さくなる.  "
   ]
  },
  {
   "cell_type": "markdown",
   "metadata": {},
   "source": [
    "以上の仮定のもと、$z_{1:n}$のサンプリングを考える.  \n",
    "ただし、$\\pi$は$\\sum^\\infty_{k=1}\\pi_k=1$という制約があり、この制約を満たしたままサンプリングを行うことは難しい.  \n",
    "→周辺化をしてしまえば$\\pi$を直接扱う必要はなくなる.  "
   ]
  },
  {
   "cell_type": "markdown",
   "metadata": {},
   "source": [
    "### 1.4 周辺化"
   ]
  },
  {
   "cell_type": "markdown",
   "metadata": {},
   "source": [
    "結合分布から特定の変数を積分消去すること.  \n",
    "(例)$$ p(x_1, x_3) = \\int p(x_1, x_2, x_3)dx_2$$  \n",
    "ベイズ推定では、観測データ$x_{1:n}$の尤度$p(x_{1:n}|\\phi)$を事前分布$p(\\phi|\\eta)$を事前分布$p(\\phi|\\eta)$で周辺化した  \n",
    "$$p(x_{1:n}|\\eta) = \\int p(x_{1:n}|\\phi)p(\\phi|\\eta)d\\phi=\\int p(x_{1:n}, \\phi|\\eta)d\\phi$$  \n",
    "を周辺尤度と呼ぶ."
   ]
  },
  {
   "cell_type": "markdown",
   "metadata": {},
   "source": [
    "### 1.5 条件付き確率密度関数の計算"
   ]
  },
  {
   "cell_type": "markdown",
   "metadata": {},
   "source": [
    "$$ p(z_i = k|z^{\\backslash i}_{1:n}, \\alpha) = \\frac{n^{\\backslash i}_{k} + \\alpha/K}{n-1+\\alpha}$$"
   ]
  },
  {
   "cell_type": "markdown",
   "metadata": {},
   "source": [
    "$$p(z_i = k|z^{\\backslash i}_{1:n}, \\alpha)=\\left\\{ \\begin{array}{1}\n",
    "\\frac{n^{\\backslash i}_{k} + \\alpha/K}{n-1+\\alpha} & if ~~ k\\in K^+(z^{\\backslash i}_{1:n}) \\\\\n",
    "\\frac{\\alpha/K}{n-1+\\alpha} & otherwise \\\\\n",
    "\\end{array} \\right.$$"
   ]
  },
  {
   "cell_type": "markdown",
   "metadata": {},
   "source": [
    "$$ p(z_i \\notin K^+(z^{\\backslash i}_{1:n})|z^{\\backslash i}_{1:n},\\alpha) = \\sum_{k\\notin K^+} p(z_i = k|z^{\\backslash i}_{1:n}, \\alpha/K)\\\\\n",
    "= ( K - |K^+(z^{\\backslash i}_{1:n})|)\\frac{\\alpha/K}{n-1+\\alpha}\\\\\n",
    "= ( 1 - \\frac{|K^+(z^{\\backslash i}_{1:n})|}{K})\\frac{\\alpha}{n-1+\\alpha}\n",
    "$$"
   ]
  },
  {
   "cell_type": "markdown",
   "metadata": {},
   "source": [
    "すなわち、\n",
    "$$\\left\\{ \\begin{array}{1}\n",
    "p(z_i = k|z^{\\backslash i}_{1:n}, \\alpha) = \\frac{n^{\\backslash i}_{k} + \\alpha/K}{n-1+\\alpha} \\\\\n",
    "p(z_i \\notin K^+(z^{\\backslash i}_{1:n})|z^{\\backslash i}_{1:n},\\alpha) = ( 1 - \\frac{|K^+(z^{\\backslash i}_{1:n})|}{K})\\frac{\\alpha}{n-1+\\alpha} \\\\\n",
    "\\end{array} \\right.$$"
   ]
  },
  {
   "cell_type": "markdown",
   "metadata": {},
   "source": [
    "### 1.6 $K→\\infty$"
   ]
  },
  {
   "cell_type": "markdown",
   "metadata": {},
   "source": [
    "$$\\left\\{ \\begin{array}{1}\n",
    "p(z_i = k|z^{\\backslash i}_{1:n}, \\alpha) = \\frac{n^{\\backslash i}_{k} }{n-1+\\alpha} \\\\\n",
    "p(z_i \\notin K^+(z^{\\backslash i}_{1:n})|z^{\\backslash i}_{1:n},\\alpha) = \\frac{\\alpha}{n-1+\\alpha} \\\\\n",
    "\\end{array} \\right.$$\n",
    "この式が意味することは、すでにサンプリングされた値は$\\frac{n^{\\backslash i}_k}{n-1+\\alpha}$の確率でサンプリングされ、それ以外の何らかの値は$\\frac{\\alpha}{n-1+\\alpha}$の確率でサンプリングされるということ。\n",
    "$$(\\frac{n^{\\backslash i}_1}{n-1+\\alpha},\\frac{n^{\\backslash i}_2}{n-1+\\alpha},\\frac{n^{\\backslash i}_5}{n-1+\\alpha},\\frac{\\alpha}{n-1+\\alpha}）$$"
   ]
  },
  {
   "cell_type": "markdown",
   "metadata": {},
   "source": [
    "### 1.7 i+1回目のサンプリング"
   ]
  },
  {
   "cell_type": "markdown",
   "metadata": {},
   "source": [
    "次に、確率変数$z_{i+1}$をサンプリングする。今度は、\n",
    "$$(\\frac{n^{\\backslash i+1}_1}{n-1+\\alpha},\\frac{n^{\\backslash i+1}_2}{n-1+\\alpha},\\frac{n^{\\backslash i+1}_5}{n-1+\\alpha},\\frac{\\alpha}{n-1+\\alpha}）$$\n",
    "の割合で$z_{i+1}$をサンプリングするようにみえるが、もし$n_2 = 1$ならば$n^{\\backslash i+1} = 0$。  \n",
    "\n",
    "よって、\n",
    "$$(\\frac{n^{\\backslash i+1}_1}{n-1+\\alpha},\\frac{n^{\\backslash i+1}_5}{n-1+\\alpha},\\frac{\\alpha}{n-1+\\alpha}）$$"
   ]
  },
  {
   "cell_type": "markdown",
   "metadata": {},
   "source": [
    "### 1.8 数値ラベルの意味  "
   ]
  },
  {
   "cell_type": "markdown",
   "metadata": {},
   "source": [
    "$(z_1,z_2,z_3,z_4)=(2,5,1,2)$が意味していることは、データ1とデータ4が同じクラスで、その他は個別のクラス。"
   ]
  },
  {
   "cell_type": "markdown",
   "metadata": {},
   "source": [
    "### 1.9 潜在変数の数値の付け替え"
   ]
  },
  {
   "cell_type": "markdown",
   "metadata": {},
   "source": [
    "$(z_1,z_2,z_3,z_4)=(2,5,1,2)$でも$(z_1,z_2,z_3,z_4)=(1,2,3,1)$としてもよい。"
   ]
  },
  {
   "cell_type": "markdown",
   "metadata": {},
   "source": [
    "### 1.10 $z_{1:n}${$z_1, ..., z_n$}の値をサンプリングするアルゴリズム"
   ]
  },
  {
   "cell_type": "markdown",
   "metadata": {},
   "source": [
    "潜在変数の数値の取り替えを考えると常に$z_{1:n}$に出現している潜在変数の数値を$\\{1,2,...,|K^{+}(z^{\\backslash i}_{1:n})|\\}$のように連番にすることができる。"
   ]
  },
  {
   "cell_type": "markdown",
   "metadata": {},
   "source": [
    "$$p(z_i = k|z^{\\backslash i}_{1:n}, \\alpha)=\\left\\{ \\begin{array}{1}\n",
    "\\frac{n_{k}}{n-1+\\alpha} & if ~~ k\\in K^+(z^{\\backslash i}_{1:n}) \\\\\n",
    "\\frac{\\alpha}{n-1+\\alpha} & if ~~  k = |K^+(z^{\\backslash i}_{1:n})| +1 \n",
    "\\end{array} \\right.$$"
   ]
  },
  {
   "cell_type": "markdown",
   "metadata": {},
   "source": [
    "## 2 無限混合ガウスモデル "
   ]
  },
  {
   "cell_type": "markdown",
   "metadata": {},
   "source": [
    "導出はすでに終わっている.  \n",
    "ギブスサンプリングのアルゴリズムの具体的な説明をする.  \n",
    "ディリクレ分布を無限次元に拡張してギブスサンプリングするためには、基本的には周辺化を行うため周辺化ギブスサンプリングとなる."
   ]
  },
  {
   "cell_type": "markdown",
   "metadata": {},
   "source": [
    "#### 周辺化ギブスサンプリング"
   ]
  },
  {
   "cell_type": "markdown",
   "metadata": {},
   "source": [
    "$$ p(z_i = k|x_{1:n}, z^{\\backslash i}_{1:n}, \\mu_0, \\rho_0, a_0, b_0, \\alpha)\\\\\n",
    "\\propto p(x_i|z_i = k,x^{\\backslash i}_{1:n}, z^{\\backslash i}_{1:n}, \\mu_0, \\rho_0, a_0, b_0) × p(z_i = k|z^{\\backslash i}_{1:n}, \\alpha)\\\\\n",
    "= \\left\\{ \\begin{array}{1}\n",
    "\\int p(x_i|\\mu_k, \\tau)p(\\mu_k, \\tau|x_{1:n}, z^{\\backslash i}_{1:n}, \\mu_0, \\rho_0, a_0, b_0)d\\mu_kd\\tau × \\frac{n^{\\backslash i}_{k} }{n-1+\\alpha} & if ~~ k\\in K^+(z^{\\backslash i}_{1:n}) \\\\\n",
    "\\int p(x_i|\\mu_k, \\tau)p(\\mu_k, \\tau|\\mu_0, \\rho_0, a_0, b_0)d\\mu_kd\\tau × \\frac{\\alpha}{n-1+\\alpha} & if ~~ k = |K^+(z^{\\backslash i}_{1:n})|+1 \\\\\n",
    "\\end{array} \\right.$$"
   ]
  },
  {
   "cell_type": "markdown",
   "metadata": {},
   "source": [
    "#### 潜在変数に加えて平均と分散もサンプリングする場合\n",
    "\n",
    "$$ p(z_i = k|x_{1:n}, z^{\\backslash i}_{1:n}, \\mu_0, \\rho_0, a_0, b_0, \\alpha)\\\\\n",
    "\\propto p(x_i|z_i = k,x^{\\backslash i}_{1:n}, z^{\\backslash i}_{1:n}, \\mu_0, \\rho_0, a_0, b_0) × p(z_i = k|z^{\\backslash i}_{1:n}, \\alpha)\\\\\n",
    "= \\left\\{ \\begin{array}{1}\n",
    "\\int p(x_i|\\bf{\\mu}_k, \\tau) × \\frac{n^{\\backslash i}_{k} }{n-1+\\alpha} ~~~ \\bf{\\mu}_k \\sim N(\\bf{\\mu}_0, (\\tau \\rho_0)^{-1}\\bf{I}) & if ~~ k\\in K^+(z^{\\backslash i}_{1:n}) \\\\\n",
    "\\int p(x_i|\\bf{\\mu}_k, \\tau) × \\frac{\\alpha}{n-1+\\alpha} ~~~ \\bf{\\mu}_k \\sim N(\\bf{\\mu}_0, (\\tau \\rho_0)^{-1}\\bf{I}) & if ~~ k = |K^+(z^{\\backslash i}_{1:n})|+1 \\\\\n",
    "\\end{array} \\right.$$"
   ]
  },
  {
   "cell_type": "markdown",
   "metadata": {},
   "source": [
    "## 3 周辺尤度からみるディリクレ分布の無限次元化"
   ]
  },
  {
   "cell_type": "markdown",
   "metadata": {},
   "source": [
    "ディリクレ分布の無限次元化についてより詳細に分析するために、$K→\\infty$とした場合の周辺尤度$p(\\bf{z}_{1:n}|\\alpha)$について分析する。  \n",
    "以下は混合ガウスモデルのデータも含めた周辺尤度であるが、ここではディリクレ分布の性質を分析したいので扱わない。  \n",
    "$$ p(\\bf{x}_{1:n}, \\bf{z}_{1:n}| \\bf{\\mu}_0, \\rho_0, a_0, b_0, \\alpha) \\\\\n",
    "= p(\\bf{x}_{1:n}|\\bf{z}_{1:n}, \\bf{\\mu}_0, \\rho_0, a_0, b_0, \\alpha) × p(\\bf{z}_{1:n}|\\bf{z}_{1:n}, \\bf{\\mu}_0, \\rho_0, a_0, b_0, \\alpha) \\\\\n",
    "= p(\\bf{x}_{1:n}|\\bf{z}_{1:n}, \\bf{\\mu}_0, \\rho_0, a_0, b_0) × p(\\bf{z}_{1:n}|\\alpha)$$"
   ]
  },
  {
   "cell_type": "markdown",
   "metadata": {},
   "source": [
    "p36で導出された式(3.46)において$\\alpha_k = \\alpha/K$とすればよいので、周辺尤度は  \n",
    "$$p(\\bf{z}_{1:n}|\\alpha) = \\frac{\\Gamma(\\alpha)}{\\Gamma(n+\\alpha)}\\Pi^K_{k=1}\\frac{\\Gamma(n_k + \\alpha/K)}{\\Gamma(\\alpha/K)}$$"
   ]
  },
  {
   "cell_type": "markdown",
   "metadata": {},
   "source": [
    "ガンマ関数の性質を利用すると、  \n",
    "$$p(\\bf{z}_{1:n}|\\alpha) = \\frac{\\Gamma(\\alpha)}{\\Gamma(n+\\alpha)}(\\alpha/K)^{K^{+}}\\Pi^{K^{+}}_{k=1}\\Bigl[ \\Bigl(\\Pi^{n_k-1}_{j=1}(j+\\alpha/K) \\Bigr) \\Bigr] $$"
   ]
  },
  {
   "cell_type": "markdown",
   "metadata": {},
   "source": [
    "ただし、この時、$K→\\infty$により$(\\alpha/K)^{K^{+}}→0$となり、p = 0となってしまう。  \n",
    "そこで$p(\\bf{z}_{1:n}|\\alpha)$に$\\frac{K!}{(K-K_{+})!}$をかけると、  \n",
    "$$ \\frac{K!}{(K-K_{+})!}p(\\bf{z}_{1:n}|\\alpha) → \\frac{\\Gamma(\\alpha)}{\\Gamma(n+\\alpha)}\\alpha^{K^{+}}\\Pi^{K^{+}}_{k=1}(n_k-1) ~~~ as ~ K→\\infty $$  \n",
    "これは順列をすべて足しあわせたものの確率を表しており、例えば、(1, 2, 3, 1)、(3, 1, 5, 3)、(4, 2, 5, 4)のような1回目と4回目が同じで2回目と3回目がそれぞれ違うといった順列の集合の確率であり、このとき(1, 2, 3, 1)を代表して[1, 2, 3, 1]と表現することにする。  \n",
    "より一般的には$z_{1:n}$を$[z_{1:n}]$とすることである。  \n",
    "つまり、\n",
    "$$ p([z_{1:n}]|\\alpha) = \\frac{K!}{(K-K_{+})!}p(\\bf{z}_{1:n}|\\alpha) → \\frac{\\Gamma(\\alpha)}{\\Gamma(n+\\alpha)}\\alpha^{K^{+}}\\Pi^{K^{+}}_{k=1}(n_k-1) ~~~ as ~ K→\\infty $$  "
   ]
  },
  {
   "cell_type": "markdown",
   "metadata": {},
   "source": [
    "## ここまでのまとめ  \n",
    "・$\\alpha_k = \\alpha/K$としたディリクレ分布と多項分布を組み合わせることで、データの分割に対して確率分布を定義することができる（第1章第5編）。ここで$z_{1:n}$は数値そのもに意味があるわけでなく、分割の仕方を現しているに過ぎない（第3章）。例えば、$(z_1, z_2, z_3, z_4) = (2, 5, 1, 2)$が意味していることは、$\\{\\{z_1, z_4\\}, \\{z_2\\}, \\{z_3\\}\\}$という分割を意味している。  \n",
    "・分割に対する生成モデルでは、分割数Kを$K→\\infty$としても、分割に対して確率が計算可能（第3章、分割の仕方に確率を定義できるのであって、特定の組の確率測度は0）。\n"
   ]
  },
  {
   "cell_type": "markdown",
   "metadata": {},
   "source": [
    "## 4 分割の確率モデル"
   ]
  },
  {
   "cell_type": "markdown",
   "metadata": {},
   "source": [
    "#### 中華料理店過程 [wikipedea](https://ja.wikipedia.org/wiki/中華料理店過程) \n",
    "$$ p(z_i = k|\\bf{z}_{1:i-1}, \\alpha) = \\left\\{ \\begin{array}{1}\n",
    "\\frac{n_{k} }{n-1+\\alpha} & if ~~ k\\in K^+(z^{\\backslash i}_{1:i-1}) \\\\\n",
    "\\frac{\\alpha}{n-1+\\alpha} & if ~~ k = |K^+(z^{\\backslash i}_{1:i-1})|+1 \\\\\n",
    "\\end{array} \\right.$$  \n",
    "※CRPは確率過程であるため時系列的な確率変数  \n",
    "※$n_k$は$\\bf{z}_{1:i-1}$におけるkの出現回数  "
   ]
  },
  {
   "cell_type": "markdown",
   "metadata": {},
   "source": [
    "i番目の客の座るルールは、i-1番目までの客の座席配置に依存しているので、$\\bf{z}_{1:n}$の確率は、  \n",
    "$$ p(z_{1:n}|\\alpha) = p(z_n|z_{1:n-1}, \\alpha)p(z_{1:n-1}|\\alpha) \\\\\n",
    "= p(z_n|z_{1:n-1}, \\alpha)p(z_{n-1}|z_{1:n-2}, \\alpha)p(z_{1:n-2}|\\alpha) \\\\\n",
    "= \\Pi^n_{i=1}p(z_i|z_{1:i-1}, \\alpha)$$"
   ]
  },
  {
   "cell_type": "markdown",
   "metadata": {},
   "source": [
    "#### ※ガンマ関数の性質  \n",
    "$$ \\frac{1}{\\Pi^n_{i=1} (i-1+\\alpha)} = \\frac{\\Gamma(\\alpha)}{\\Gamma(n+\\alpha)}$$\n",
    "であることを利用する。"
   ]
  },
  {
   "cell_type": "markdown",
   "metadata": {},
   "source": [
    "$$ p(z_{1:n}|\\alpha) = \\Pi^n_{i=1}p(z_i|z_{1:i-1}, \\alpha)\\\\ \n",
    "= \\alpha^{K^{+}} \\Pi^n_{i=1} \\frac{\\Sigma^{i-1}_{l=1}\\delta(z_i = z_l)}{i-1+\\alpha}\\\\\n",
    "= \\frac{\\Gamma(\\alpha)}{\\Gamma(n+\\alpha)} \\alpha^{K^{+}}\\Pi^{K^{+}}_{k=1}(n_k-1)!\n",
    "$$"
   ]
  },
  {
   "cell_type": "markdown",
   "metadata": {},
   "source": [
    "これは上述の分割のモデルにおける、\n",
    "$$ p([z_{1:n}]|\\alpha) = \\frac{K!}{(K-K_{+})!}p(\\bf{z}_{1:n}|\\alpha) → \\frac{\\Gamma(\\alpha)}{\\Gamma(n+\\alpha)}\\alpha^{K^{+}}\\Pi^{K^{+}}_{k=1}(n_k-1) ~~~ as ~ K→\\infty $$  "
   ]
  },
  {
   "cell_type": "markdown",
   "metadata": {},
   "source": [
    "## 5 ディリクレ過程"
   ]
  },
  {
   "cell_type": "markdown",
   "metadata": {},
   "source": [
    "CRPの背後にあるのはディリクレ過程。  \n",
    "無限混合ガウスモデルの生成過程をCRPで記述した場合を例に説明する。  \n",
    "簡単のため、パラメータとして平均$\\bf{\\mu}_k$のみ考え、分散は固定値をとることにする。  \n",
    "CRPを使った無限混合ガウスモデルによる$\\bf{x}_{1:n}$の生成過程は、  \n",
    "$$ \\bf{\\mu}_k \\sim N(\\bf{\\mu}_0, \\sigma^2_0 \\bf{I})(k=1,2,...),\\\\\n",
    "z_i \\sim CRP(\\alpha)(i=1,2,...,n),\\\\\n",
    "\\bf{x}_i \\sim N(\\bf{\\mu}_{z_i}, \\sigma^2_0 \\bf{I})\n",
    "$$"
   ]
  },
  {
   "cell_type": "markdown",
   "metadata": {},
   "source": [
    "ここで$\\bf{x}_i$を生成するパラメータを$\\bf{\\theta}_i$と書くようにする。すなわち生成過程の式を、\n",
    "$$ \\bf{x}_i \\sim N(\\bf{\\theta}_i, \\sigma^2_0\\bf{I}$$\n",
    "これは、$\\bf{\\mu}_k$と$\\bf{z}_i$で表現していたパラメータ$\\bf{\\mu}_{z_i}$を$\\bf{\\theta}_i$という1つの表現で書いた式になっている。"
   ]
  },
  {
   "cell_type": "markdown",
   "metadata": {},
   "source": [
    "この結果、生成過程の式、  \n",
    "$$ \\bf{\\mu}_k \\sim N(\\bf{\\mu}_0, \\sigma^2_0 \\bf{I})(k=1,2,...),\\\\\n",
    "z_i \\sim CRP(\\alpha)(i=1,2,...,n),\\\\\n",
    "$$\n",
    "は、合わせて、\n",
    "$$ \\bf{\\theta} = \\left\\{ \\begin{array}{1}\n",
    "\\bf{\\mu}_k(k=1,...,K^{+}) & \\frac{n^{1:i-1}_{k}}{i-1+\\alpha}の確率で  \\\\\n",
    "\\bf{\\mu}_{K^{+}+1} \\sim N(\\bf{\\mu}_0, \\sigma^2_0\\bf{I} & \\frac{\\alpha}{i-1+\\alpha}の確率で\n",
    "\\end{array} \\right. $$  "
   ]
  },
  {
   "cell_type": "markdown",
   "metadata": {},
   "source": [
    "ここまでの議論を一般化する。  \n",
    "$H_0(\\bf{\\theta}|\\eta)$を$\\bf{\\theta}$上の確率分布とする。  \n",
    "$H_0(\\bf{\\theta}|\\eta)$から生成される確率変数$\\bf{\\theta}$の実現値を$\\theta^{(\\theta)}$と書くことにする。  \n",
    "$n^{1:i-1}_{k} = \\Sigma^{i-1}_{i' = 1} \\delta(\\bf{\\theta}_i' = \\bf{\\theta}^{(k)})$とする。\n",
    "$$ \\bf{\\theta}_i = \\left\\{ \\begin{array}{1}\n",
    "\\bf{\\theta}^{k}(k=1,...,K^{+}) & \\frac{n^{1:i-1}_{k}}{i-1+\\alpha}の確率で  \\\\\n",
    "\\bf{\\theta}^{K^{+}+1} \\sim H_0(\\bf{\\theta}|\\eta) & \\frac{\\alpha}{i-1+\\alpha}の確率で\n",
    "\\end{array} \\right. $$  "
   ]
  },
  {
   "cell_type": "markdown",
   "metadata": {},
   "source": [
    "#### ここまでの生成過程の式変形  \n",
    "$$ \\bf{\\mu}_k \\sim N(\\bf{\\mu}_0, \\sigma^2_0 \\bf{I})(k=1,2,...),\\\\\n",
    "z_i \\sim CRP(\\alpha)(i=1,2,...,n),\\\\\n",
    "\\bf{x}_i \\sim N(\\bf{\\mu}_{z_i}, \\sigma^2_0 \\bf{I})\n",
    "$$\n",
    "は、Θの導入により\n",
    "$$ \\bf{\\theta}_i = \\left\\{ \\begin{array}{1}\n",
    "\\bf{\\mu}_k(k=1,...,K^{+}) & \\frac{n^{1:i-1}_{k}}{i-1+\\alpha}の確率で  \\\\\n",
    "\\bf{\\mu}_{K^{+}+1} \\sim N(\\bf{\\mu}_0, \\sigma^2_0\\bf{I}) & \\frac{\\alpha}{i-1+\\alpha}の確率で \\\\\n",
    "\\end{array} \\right.  \\\\\n",
    "\\bf{x}_i \\sim N(\\bf{\\theta}_i, \\sigma^2_0 \\bf{I})\n",
    "$$  \n",
    "これを一般化すると、$H_0(\\bf{\\theta}|\\eta)$を$\\bf{\\theta}$上の確率分布として(上の例では$H_0(\\bf{\\theta}|\\eta)$は$N(\\bf{\\mu}_0, \\sigma^2_0\\bf{I})$である)、\n",
    "$$ \\bf{\\theta}_i = \\left\\{ \\begin{array}{1}\n",
    "\\bf{\\theta}^{k}(k=1,...,K^{+}) & \\frac{n^{1:i-1}_{k}}{i-1+\\alpha}の確率で  \\\\\n",
    "\\bf{\\theta}^{K^{+}+1} \\sim H_0(\\bf{\\theta}|\\eta) & \\frac{\\alpha}{i-1+\\alpha}の確率で\n",
    "\\end{array} \\right. \\\\\n",
    "\\bf{x}_i \\sim N(\\bf{\\theta}_i, \\sigma^2_0 \\bf{I})\n",
    "$$  "
   ]
  },
  {
   "cell_type": "markdown",
   "metadata": {},
   "source": [
    "#### ※ガンマ関数の性質  \n",
    "$$ \\frac{1}{\\Pi^n_{i=1} (i-1+\\alpha)} = \\frac{\\Gamma(\\alpha)}{\\Gamma(n+\\alpha)}$$\n",
    "であることを利用する。"
   ]
  },
  {
   "cell_type": "markdown",
   "metadata": {},
   "source": [
    "## 6 集中度パラメーターαの推定"
   ]
  },
  {
   "cell_type": "markdown",
   "metadata": {},
   "source": [
    "αをギブスサンプリングにより推定する方法について説明する。"
   ]
  },
  {
   "cell_type": "markdown",
   "metadata": {
    "collapsed": true
   },
   "source": [
    "まず、ベータ分布を考える。$\\pi \\in [0,1]$が$a_1$および$a_2$をパラメータとするベータ分布に従っているとすると、\n",
    "$$1 = \\frac{\\Gamma(a_1 + a_2)}{\\Gamma(a_1)\\Gamma(a_2)}\\int\\pi^{a_1-1}(1-\\pi)^{a_2-1}d\\pi$$\n",
    "ここで、$a_1 =\\alpha + 1, a_2 = n$を代入すると、\n",
    "$$1 = \\frac{\\Gamma(\\alpha + 1 + n)}{\\Gamma(\\alpha + 1)\\Gamma(n)}\\int\\pi^{\\alpha}(1-\\pi)^{n-1}d\\pi\\\\\n",
    "⇆ 1 = \\frac{(\\alpha + n)\\Gamma(\\alpha + n)}{\\alpha\\Gamma(\\alpha)\\Gamma(n)}\\int\\pi^{\\alpha}(1-\\pi)^{n-1}d\\pi\\\\\n",
    "⇆ \\frac{\\Gamma(\\alpha)}{\\Gamma(\\alpha+n)} = \\frac{(\\alpha + n)}{\\alpha\\Gamma(\\alpha)}\\int\\pi^{\\alpha}(1-\\pi)^{n-1}d\\pi\\\\\n",
    "$$"
   ]
  },
  {
   "cell_type": "markdown",
   "metadata": {},
   "source": [
    "次に、$\\alpha$の事前分布を$p(\\alpha|c_1, c_2)=Ga(\\alpha|c_1, c_2)$と仮定すると、$\\alpha$の事後分布は、\n",
    "$$p(\\alpha|c_1, c_2) \\propto p(\\alpha, \\bf{z}_{1:n}|c_1, c_2) = p(\\bf{z}_{1:n}|\\alpha)p(\\alpha|c_1, c_2) \\\\\n",
    "= \\frac{\\Gamma(\\alpha)}{\\Gamma(\\alpha+n)}\\alpha^{K^{+}}\\Pi^{K^{+}}_{k=1}(n_k -1)! × \\frac{c^{c_1}_2}{\\Gamma(c_1)}\\alpha^{c_1-1}exp(-c_2\\alpha)\\\\\n",
    "= \\frac{(\\alpha + n)}{\\alpha\\Gamma(\\alpha)}\\int\\pi^{\\alpha}(1-\\pi)^{n-1}d\\pi ×\\alpha^{K^{+}}\\Pi^{K^{+}}_{k=1}(n_k -1)! × \\frac{c^{c_1}_2}{\\Gamma(c_1)}\\alpha^{c_1-1}exp(-c_2\\alpha)$$"
   ]
  },
  {
   "cell_type": "markdown",
   "metadata": {},
   "source": [
    "ただし、\n",
    "$$ p([z_{1:n}]|\\alpha) = \\frac{K!}{(K-K_{+})!}p(\\bf{z}_{1:n}|\\alpha) → \\frac{\\Gamma(\\alpha)}{\\Gamma(n+\\alpha)}\\alpha^{K^{+}}\\Pi^{K^{+}}_{k=1}(n_k-1) ~~~ as ~ K→\\infty $$  \n",
    "\n",
    "$$ p(\\alpha|c_1, c_2) = \\frac{c^{c_1}_2}{\\Gamma(c_1)}\\alpha^{c_1-1}exp(-c_2\\alpha)$$"
   ]
  },
  {
   "cell_type": "markdown",
   "metadata": {},
   "source": [
    "$p(\\alpha|\\bf{z}_{1:n}, c_1, c_2) = \\int p(\\alpha, \\pi|\\bf{z}_{1:n}, c_1, c_2)d\\pi$に着目すると、上式を$\\pi$に関して微分すれば$p(\\alpha, \\pi|\\bf{z}_{1:n}, c_1, c_2)$が得られるので、\n",
    "$$p(\\alpha, \\pi|\\bf{z}_{1:n}, c_1, c_2) = \\frac{(\\alpha + n)}{\\alpha}\\alpha^{K^{+}}\\pi^{\\alpha}(1-\\pi)^{n-1} × \\frac{c^{c_1}_2}{\\Gamma(c_1)}\\alpha^{c_1-1}exp(-c_2\\alpha)$$"
   ]
  },
  {
   "cell_type": "markdown",
   "metadata": {},
   "source": [
    "定数項を無視すれば、\n",
    "$$p(\\alpha, \\pi|\\bf{z}_{1:n}, c_1, c_2) \\propto \\frac{(\\alpha + n)}{\\alpha}\\alpha^{K^{+}}\\pi^{\\alpha}(1-\\pi)^{n-1} \\alpha^{c_1-1}exp(-c_2\\alpha)\\\\\n",
    "=\\frac{(\\alpha + n)}{\\alpha}\\pi^{\\alpha}(1-\\pi)^{n-1}\\alpha^{K^{+}} \\alpha^{c_1-1}exp(-c_2\\alpha)\\\\\n",
    "=(1+\\frac{n}{\\alpha})\\pi^{\\alpha}(1-\\pi)^{n-1}\\alpha^{K^{+}} \\alpha^{c_1-1}exp(-c_2\\alpha)$$\n",
    "さらに二値をとる確率変数$s \\in \\{0,1\\}$を導入して、\n",
    "$$p(\\alpha, \\pi, s|\\bf{z}_{1:n}, c_1, c_2) \\propto (\\frac{n}{\\alpha})^s\\pi^{\\alpha}(1-\\pi)^{n-1}\\alpha^{K^{+}} \\alpha^{c_1-1}exp(-c_2\\alpha)$$\n",
    "とすることができる。\n",
    "（周辺化してみると、\n",
    "$$p(\\alpha, \\pi|\\bf{z}_{1:n}, c_1, c_2) = \\Sigma_{s\\in \\{0,1\\}}p(\\alpha, \\pi, s|\\bf{z}_{1:n}, c_1, c_2)$$\n",
    "となることが確認できる)\n",
    "この結合分布から各パラメータの条件付き確率分布が導出できる。"
   ]
  },
  {
   "cell_type": "markdown",
   "metadata": {},
   "source": [
    "#### $\\pi$のサンプリング\n",
    "$$ \\pi \\sim Beta(\\pi|\\alpha + 1, n)$$"
   ]
  },
  {
   "cell_type": "markdown",
   "metadata": {},
   "source": [
    "#### sのサンプリング\n",
    "$$ s \\sim Bernoulli \\Bigr(s|\\frac{\\frac{n}{\\alpha}}{1+\\frac{n}{\\alpha}}\\Bigl)$$"
   ]
  },
  {
   "cell_type": "markdown",
   "metadata": {},
   "source": [
    "#### $\\alpha$のサンプリング\n",
    "$$ \\alpha \\sim Ga(\\alpha|c_1+K^{+}-s, c_2-log\\pi)$$"
   ]
  },
  {
   "cell_type": "markdown",
   "metadata": {},
   "source": [
    "## 実験"
   ]
  },
  {
   "cell_type": "markdown",
   "metadata": {},
   "source": [
    "### 1 CRP"
   ]
  },
  {
   "cell_type": "markdown",
   "metadata": {},
   "source": [
    "来客数1000人、α＝2,10。"
   ]
  },
  {
   "cell_type": "code",
   "execution_count": 47,
   "metadata": {
    "collapsed": true
   },
   "outputs": [],
   "source": [
    "def crp(n, alpha):\n",
    "    num = [0]\n",
    "    Dict = {}\n",
    "    for i in range(n):\n",
    "        p = np.random.uniform()\n",
    "        seats = [Dict[k]/(i+alpha) for k in Dict.keys()]+[alpha/(i+alpha)]\n",
    "        seats_prob = np.cumsum(seats)\n",
    "        num_seat = seats_prob.searchsorted(np.random.uniform(0, 1))\n",
    "        if num_seat == len(seats)-1:\n",
    "            Dict[num_seat-1] = 1\n",
    "        else:\n",
    "            Dict[num_seat-1] += 1\n",
    "        num.append(len(Dict))\n",
    "    return num"
   ]
  },
  {
   "cell_type": "code",
   "execution_count": 48,
   "metadata": {
    "collapsed": false
   },
   "outputs": [
    {
     "data": {
      "text/plain": [
       "[<matplotlib.lines.Line2D at 0x10e456780>]"
      ]
     },
     "execution_count": 48,
     "metadata": {},
     "output_type": "execute_result"
    },
    {
     "data": {
      "image/png": "[encoded data removed]",
      "text/plain": [
       "<matplotlib.figure.Figure at 0x10e41dbe0>"
      ]
     },
     "metadata": {},
     "output_type": "display_data"
    }
   ],
   "source": [
    "plt.plot(crp(1000, 15))\n",
    "plt.plot(crp(1000, 10))\n",
    "plt.plot(crp(1000, 5))\n",
    "plt.plot(crp(1000, 2))\n",
    "plt.plot(crp(1000, 1))"
   ]
  },
  {
   "cell_type": "markdown",
   "metadata": {},
   "source": [
    "### 2 DP"
   ]
  },
  {
   "cell_type": "code",
   "execution_count": 323,
   "metadata": {
    "collapsed": true
   },
   "outputs": [],
   "source": [
    "def G_0(theta, i):\n",
    "    if theta[i] <= 3/4 and theta[i+1] <= 3/4:\n",
    "        G_0 = (4/3 * theta[i] + 4/3 * theta[i+1])*(theta[i+1] - theta[i])*0.5\n",
    "    elif theta[i] <= 3/4 and theta[i+1] > 3/4:\n",
    "        G_0 = (4/3 * theta[i] + 1)*(1-theta[i])*0.5 + (1 + -4/5*(theta[i+1] - 2))*(theta[i+1] - 1)*0.5\n",
    "    else:\n",
    "        G_0 = (-4/5*(theta[i] - 2)  + -4/5*(theta[i+1] - 2) )*(theta[i+1] - theta[i])*0.5 \n",
    "    return G_0"
   ]
  },
  {
   "cell_type": "code",
   "execution_count": 324,
   "metadata": {
    "collapsed": true
   },
   "outputs": [],
   "source": [
    "def  G(alpha, theta):\n",
    "    G = np.random.dirichlet(np.array([alpha*G_0(theta, i) for i in range(len(theta)-1)]))\n",
    "    return G"
   ]
  },
  {
   "cell_type": "code",
   "execution_count": 353,
   "metadata": {
    "collapsed": false
   },
   "outputs": [
    {
     "data": {
      "image/png": "[encoded data removed]",
      "text/plain": [
       "<matplotlib.figure.Figure at 0x111edc2e8>"
      ]
     },
     "metadata": {},
     "output_type": "display_data"
    },
    {
     "data": {
      "image/png": "[encoded data removed]",
      "text/plain": [
       "<matplotlib.figure.Figure at 0x112818048>"
      ]
     },
     "metadata": {},
     "output_type": "display_data"
    },
    {
     "data": {
      "image/png": "[encoded data removed]",
      "text/plain": [
       "<matplotlib.figure.Figure at 0x112c06f98>"
      ]
     },
     "metadata": {},
     "output_type": "display_data"
    }
   ],
   "source": [
    "alpha = 2\n",
    "\n",
    "for i in range(3):\n",
    "    T = np.array([np.random.uniform()*2 for i in range(1000)])\n",
    "    theta = np.cumsum(T*2/T.sum())\n",
    "    g = G(alpha, theta)\n",
    "    plt.plot(theta, np.append(g, 0)*1000)\n",
    "    plt.title(\"alpha=2\")\n",
    "    plt.xlabel(\"theta\")\n",
    "    plt.ylabel(\"freq\")\n",
    "    plt.show()"
   ]
  },
  {
   "cell_type": "code",
   "execution_count": 354,
   "metadata": {
    "collapsed": false
   },
   "outputs": [
    {
     "data": {
      "image/png": "[encoded data removed]",
      "text/plain": [
       "<matplotlib.figure.Figure at 0x112c4fd68>"
      ]
     },
     "metadata": {},
     "output_type": "display_data"
    },
    {
     "data": {
      "image/png": "[encoded data removed]",
      "text/plain": [
       "<matplotlib.figure.Figure at 0x108d53f98>"
      ]
     },
     "metadata": {},
     "output_type": "display_data"
    },
    {
     "data": {
      "image/png": "[encoded data removed]",
      "text/plain": [
       "<matplotlib.figure.Figure at 0x11286eb00>"
      ]
     },
     "metadata": {},
     "output_type": "display_data"
    }
   ],
   "source": [
    "alpha = 10\n",
    "\n",
    "for i in range(3):\n",
    "    T = np.array([np.random.uniform()*2 for i in range(1000)])\n",
    "    theta = np.cumsum(T*2/T.sum())\n",
    "    g = G(alpha, theta)\n",
    "    plt.plot(theta, np.append(g, 0)*1000)\n",
    "    plt.title(\"alpha=2\")\n",
    "    plt.xlabel(\"theta\")\n",
    "    plt.ylabel(\"freq\")\n",
    "    plt.show()"
   ]
  }
 ],
 "metadata": {
  "kernelspec": {
   "display_name": "Python 3",
   "language": "python",
   "name": "python3"
  },
  "language_info": {
   "codemirror_mode": {
    "name": "ipython",
    "version": 3
   },
   "file_extension": ".py",
   "mimetype": "text/x-python",
   "name": "python",
   "nbconvert_exporter": "python",
   "pygments_lexer": "ipython3",
   "version": "3.5.1"
  }
 },
 "nbformat": 4,
 "nbformat_minor": 0
}
