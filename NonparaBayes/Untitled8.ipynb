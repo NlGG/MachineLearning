{
 "cells": [
  {
   "cell_type": "code",
   "execution_count": 78,
   "metadata": {
    "collapsed": false
   },
   "outputs": [],
   "source": [
    "%matplotlib inline\n",
    "\n",
    "import numpy as np\n",
    "import matplotlib.pyplot as plt"
   ]
  },
  {
   "cell_type": "code",
   "execution_count": 68,
   "metadata": {
    "collapsed": true
   },
   "outputs": [],
   "source": [
    "def dirichlet_pdf(pi, alpha):\n",
    "    g_1 = gamma_func(np.sum(alpha))\n",
    "    g_2 = np.prod(np.array([gamma_func(a) for a in alpha]))\n",
    "    P = np.prod(np.array([p**(a-1) for p in pi for a in alpha]))\n",
    "    drch = g_1/g_2*P\n",
    "    return drch"
   ]
  },
  {
   "cell_type": "code",
   "execution_count": 56,
   "metadata": {
    "collapsed": false
   },
   "outputs": [],
   "source": [
    "def gamma_func(x):\n",
    "    gamma, err = quad(lambda t: t**(x-1)*np.exp(-t), 0, float(\"inf\"))\n",
    "    return gamma "
   ]
  },
  {
   "cell_type": "code",
   "execution_count": 60,
   "metadata": {
    "collapsed": true
   },
   "outputs": [],
   "source": [
    "pi = np.linspace(0.001, 1, 100)"
   ]
  },
  {
   "cell_type": "code",
   "execution_count": 61,
   "metadata": {
    "collapsed": true
   },
   "outputs": [],
   "source": [
    "alpha = [1, 1, 1]"
   ]
  },
  {
   "cell_type": "code",
   "execution_count": 62,
   "metadata": {
    "collapsed": false
   },
   "outputs": [
    {
     "name": "stdout",
     "output_type": "stream",
     "text": [
      "5.44252236673e-134\n"
     ]
    },
    {
     "data": {
      "text/plain": [
       "3.2655134200406367e-132"
      ]
     },
     "execution_count": 62,
     "metadata": {},
     "output_type": "execute_result"
    }
   ],
   "source": [
    "dirichlet_pdf(pi, alpha)"
   ]
  },
  {
   "cell_type": "code",
   "execution_count": 92,
   "metadata": {
    "collapsed": false
   },
   "outputs": [],
   "source": [
    "dist = np.zeros(1000)\n",
    "for i in range(1000):\n",
    "    for \n",
    "    P = [np.random.uniform() for i in range(3)]\n",
    "    p_all = np.sum(P)\n",
    "    P = P/p_all\n",
    "    dist[i] = dirichlet_pdf(P, alpha)"
   ]
  },
  {
   "cell_type": "code",
   "execution_count": 93,
   "metadata": {
    "collapsed": false,
    "scrolled": false
   },
   "outputs": [
    {
     "data": {
      "text/plain": [
       "array([  7.33436858e-04,   3.01132088e-03,   8.99562820e-04,\n",
       "         1.93114339e-03,   1.12191821e-03,   3.44907527e-04,\n",
       "         1.81387154e-03,   1.67905776e-03,   2.03247036e-03,\n",
       "         1.77994348e-04,   6.20390558e-09,   1.97547911e-03,\n",
       "         4.68645046e-05,   4.15032707e-04,   2.89974789e-03,\n",
       "         2.08164580e-03,   2.37870080e-03,   2.66456236e-03,\n",
       "         2.15992038e-03,   1.55331071e-04,   2.27603494e-03,\n",
       "         4.45098490e-05,   2.27058858e-05,   2.96945907e-03,\n",
       "         6.15417686e-04,   5.86850698e-04,   2.44426384e-03,\n",
       "         2.75911393e-05,   2.67420423e-03,   5.08073049e-04,\n",
       "         6.51838698e-04,   5.75827232e-04,   2.42222405e-05,\n",
       "         1.12983066e-03,   1.10233958e-05,   2.83138800e-03,\n",
       "         1.37990413e-03,   7.72229723e-04,   1.62249783e-05,\n",
       "         7.54567290e-04,   7.97603677e-04,   2.84796271e-03,\n",
       "         3.32214898e-04,   9.44763187e-04,   4.60051253e-04,\n",
       "         8.67522303e-07,   4.03183687e-05,   7.72971986e-04,\n",
       "         3.00144502e-03,   6.91808685e-08,   2.39473857e-03,\n",
       "         3.00076031e-03,   1.32188420e-04,   6.99718893e-04,\n",
       "         1.21168495e-03,   1.21259565e-04,   1.15507331e-03,\n",
       "         9.51005227e-04,   6.86063090e-04,   2.01410194e-06,\n",
       "         1.70848781e-04,   9.07692867e-06,   7.09209063e-05,\n",
       "         1.15941374e-03,   2.32211822e-03,   1.34641343e-03,\n",
       "         3.88496489e-04,   1.79850342e-04,   2.57201628e-06,\n",
       "         3.04655970e-03,   9.18310620e-04,   2.57025386e-03,\n",
       "         1.37739422e-03,   8.88728959e-04,   1.53370367e-06,\n",
       "         1.50646897e-03,   1.53774021e-03,   1.46421313e-04,\n",
       "         1.29976925e-03,   1.98731885e-03,   7.48680322e-04,\n",
       "         1.30174446e-03,   2.18047851e-03,   1.62727281e-03,\n",
       "         4.08878825e-05,   3.15135567e-05,   1.40686482e-06,\n",
       "         1.18508400e-03,   3.56483786e-06,   3.20103935e-05,\n",
       "         1.71045890e-04,   1.86389243e-04,   2.73930760e-03,\n",
       "         1.20972565e-03,   4.16662893e-04,   8.25857735e-04,\n",
       "         4.32040681e-05,   1.02140953e-06,   8.68145496e-04,\n",
       "         1.44870909e-03,   2.50831225e-03,   1.12049575e-03,\n",
       "         6.71086805e-05,   1.01388745e-03,   1.50038453e-05,\n",
       "         5.34381617e-05,   2.37091940e-03,   1.54925500e-04,\n",
       "         2.59962371e-03,   1.57197502e-03,   2.87973631e-03,\n",
       "         3.27167335e-05,   9.88787104e-04,   4.14467419e-04,\n",
       "         2.90542793e-03,   1.75704728e-03,   2.26705781e-03,\n",
       "         7.47976663e-06,   2.86505423e-06,   1.59115012e-03,\n",
       "         1.81393640e-03,   2.19051605e-04,   1.04615526e-07,\n",
       "         1.37297271e-03,   1.00623985e-03,   1.12986055e-03,\n",
       "         2.27293100e-05,   2.39857622e-03,   1.00927520e-05,\n",
       "         2.81117443e-03,   3.17117190e-05,   2.98735755e-03,\n",
       "         2.34057075e-07,   9.68530752e-04,   2.86642458e-03,\n",
       "         2.72036108e-03,   1.89460055e-03,   5.57401415e-07,\n",
       "         4.07241260e-04,   1.66869875e-05,   1.40202645e-04,\n",
       "         2.96986698e-03,   7.14792346e-06,   4.95506202e-06,\n",
       "         2.74578832e-03,   2.57952431e-03,   3.89850163e-04,\n",
       "         2.82698088e-03,   2.37674478e-06,   8.06575821e-04,\n",
       "         1.86835583e-03,   2.98499919e-05,   2.42331626e-05,\n",
       "         3.03439523e-03,   2.51147782e-03,   2.56764882e-03,\n",
       "         1.89149796e-04,   2.91789050e-03,   1.28274574e-03,\n",
       "         2.56761243e-03,   2.36202032e-05,   2.86089330e-03,\n",
       "         4.69339896e-04,   5.54550616e-04,   2.54467371e-03,\n",
       "         2.77540402e-03,   9.92758610e-04,   2.27151102e-03,\n",
       "         2.51623722e-04,   2.36343455e-03,   1.51563717e-04,\n",
       "         4.47811675e-04,   3.70127465e-04,   4.40188551e-07,\n",
       "         1.15709167e-03,   1.00645533e-03,   1.21063605e-03,\n",
       "         1.81192503e-03,   1.95421750e-03,   1.65919177e-03,\n",
       "         7.50582463e-05,   4.45792633e-05,   6.46776953e-05,\n",
       "         1.51342634e-04,   3.00754039e-03,   2.26135131e-03,\n",
       "         9.69753113e-04,   6.30370533e-04,   3.04543722e-03,\n",
       "         1.34491334e-03,   7.72960547e-04,   6.06328927e-04,\n",
       "         2.30174357e-05,   8.23185906e-07,   2.97401876e-03,\n",
       "         6.80211014e-04,   4.99274835e-05,   1.55537048e-05,\n",
       "         4.97149874e-08,   1.38109586e-03,   1.88895578e-04,\n",
       "         9.60408806e-04,   3.19145681e-04,   5.29714008e-08,\n",
       "         1.80638923e-03,   3.58662347e-04,   2.19451867e-03,\n",
       "         2.12318070e-03,   1.65080338e-03,   2.94134068e-03,\n",
       "         2.08375786e-05,   1.56104595e-04,   7.02590758e-08,\n",
       "         2.47700441e-03,   1.02974848e-04,   3.49279419e-04,\n",
       "         8.60014677e-04,   1.44807124e-03,   3.11804333e-04,\n",
       "         1.02438325e-09,   1.57925244e-03,   1.27312436e-05,\n",
       "         1.44439508e-04,   1.51116482e-03,   2.11171642e-04,\n",
       "         3.01235910e-03,   9.92072376e-05,   2.99785681e-03,\n",
       "         1.56375783e-03,   4.34850873e-04,   7.55200055e-04,\n",
       "         5.53742362e-04,   4.51572306e-04,   1.21251165e-03,\n",
       "         1.95269812e-03,   2.53064478e-03,   4.28779798e-04,\n",
       "         1.76837309e-03,   5.72544757e-04,   4.53983140e-05,\n",
       "         2.66832216e-03,   1.28811805e-03,   5.61789954e-07,\n",
       "         1.42001294e-05,   2.52247086e-03,   2.24464721e-03,\n",
       "         1.82256202e-03,   6.05411575e-04,   2.95303489e-03,\n",
       "         1.59205535e-03,   1.30071925e-07,   2.81514005e-03,\n",
       "         1.61056815e-03,   4.33080659e-05,   1.12059487e-03,\n",
       "         2.82469434e-04,   2.69043264e-03,   7.17872338e-07,\n",
       "         1.91093849e-03,   2.73943888e-03,   7.59462286e-05,\n",
       "         1.54122373e-03,   2.87728082e-03,   5.42184827e-04,\n",
       "         1.97323024e-03,   2.45530771e-04,   2.48564958e-07,\n",
       "         1.13949969e-03,   5.32553195e-04,   5.80847508e-04,\n",
       "         1.82654900e-05,   2.69043645e-03,   7.04734408e-06,\n",
       "         5.60423875e-06,   1.67561873e-03,   2.36103203e-03,\n",
       "         3.41264592e-05,   6.19758054e-04,   1.98811248e-05,\n",
       "         1.83792553e-06,   2.79653114e-03,   4.86518241e-07,\n",
       "         1.72590160e-04,   8.99806553e-05,   3.03374221e-03,\n",
       "         3.01113318e-03,   1.12744987e-04,   3.38420269e-04,\n",
       "         3.46572437e-04,   1.29912947e-03,   6.13947524e-06,\n",
       "         2.39334636e-04,   6.81376053e-05,   4.39640684e-05,\n",
       "         5.76794243e-05,   1.01180574e-03,   2.96642459e-03,\n",
       "         5.46077129e-04,   4.46724633e-06,   2.31301272e-04,\n",
       "         1.09235395e-04,   2.86100835e-04,   6.56360672e-04,\n",
       "         2.57918343e-03,   1.05790296e-03,   7.15050188e-04,\n",
       "         2.26878410e-03,   1.32066247e-03,   5.32440351e-04,\n",
       "         2.99641755e-03,   1.03431932e-03,   7.90112739e-05,\n",
       "         1.90853590e-03,   2.03245786e-03,   2.65600690e-07,\n",
       "         5.52776637e-06,   2.90432957e-03,   6.65925114e-05,\n",
       "         1.78575112e-03,   2.85101876e-03,   1.95770352e-04,\n",
       "         1.29475738e-04,   2.96418644e-03,   1.49024506e-03,\n",
       "         1.12837382e-04,   7.61234803e-04,   1.50170968e-04,\n",
       "         6.09896212e-05,   1.95105510e-03,   2.04147361e-03,\n",
       "         6.01949310e-05,   7.66549785e-04,   9.57224852e-05,\n",
       "         1.87764238e-03,   1.25811362e-03,   1.52030193e-06,\n",
       "         1.00416047e-04,   4.98550710e-04,   1.92073075e-03,\n",
       "         1.99998574e-03,   2.69055636e-03,   1.38636006e-07,\n",
       "         2.29447122e-05,   1.90058858e-03,   9.46706139e-06,\n",
       "         2.76124723e-03,   8.64949295e-06,   3.06057184e-04,\n",
       "         2.29342023e-03,   6.72840485e-05,   2.99944759e-03,\n",
       "         6.33180909e-04,   2.08416071e-08,   5.48888278e-08,\n",
       "         2.66587599e-03,   2.94936907e-03,   5.47535051e-04,\n",
       "         1.42064735e-03,   4.66669728e-06,   4.20789158e-04,\n",
       "         2.36314425e-03,   1.37868957e-03,   2.06430235e-03,\n",
       "         2.26706638e-03,   1.45053142e-05,   1.84737588e-04,\n",
       "         1.59907484e-03,   1.07774858e-03,   8.66268360e-04,\n",
       "         5.58891617e-04,   6.23672544e-06,   1.72019670e-03,\n",
       "         1.96845302e-03,   2.74269493e-03,   2.67412327e-03,\n",
       "         4.90523432e-06,   1.99620795e-03,   4.68719801e-04,\n",
       "         1.65458581e-04,   4.70859218e-04,   7.00453718e-05,\n",
       "         2.26394327e-03,   1.96237981e-03,   4.35465468e-04,\n",
       "         2.54033745e-03,   2.63469726e-03,   3.23707075e-04,\n",
       "         1.25928415e-03,   2.48664412e-04,   6.22174837e-04,\n",
       "         9.34469036e-06,   2.81041257e-03,   2.52136908e-03,\n",
       "         5.92157405e-04,   1.11676865e-04,   1.32101462e-03,\n",
       "         5.83250089e-04,   1.23549834e-03,   1.51457323e-03,\n",
       "         2.03503409e-03,   2.44573998e-04,   1.10556696e-03,\n",
       "         1.57792202e-03,   1.19646426e-03,   1.11878744e-05,\n",
       "         5.29961646e-04,   7.22698241e-04,   5.27699655e-04,\n",
       "         2.08231896e-03,   2.97810018e-03,   8.39338186e-04,\n",
       "         3.82064861e-06,   9.61827968e-06,   2.21343462e-03,\n",
       "         3.00412271e-03,   1.19871407e-03,   1.31601014e-03,\n",
       "         1.64796515e-03,   4.40198734e-04,   2.98386001e-03,\n",
       "         1.00086933e-03,   9.91435978e-04,   2.97523958e-03,\n",
       "         2.90896451e-03,   4.18548921e-07,   9.68312282e-04,\n",
       "         2.99618115e-03,   2.49869656e-03,   2.12039200e-03,\n",
       "         1.73138229e-04,   1.25616529e-03,   1.60210316e-04,\n",
       "         2.43501557e-03,   2.01026940e-07,   1.11818433e-03,\n",
       "         1.29169236e-03,   1.86334580e-03,   1.06218303e-07,\n",
       "         6.70692220e-04,   8.33449617e-04,   8.21870258e-06,\n",
       "         2.71546247e-03,   5.34069837e-04,   5.81649797e-08,\n",
       "         1.45766915e-03,   1.42241439e-03,   5.79483728e-04,\n",
       "         2.54412841e-03,   1.78153215e-03,   3.71010966e-05,\n",
       "         2.08608386e-04,   1.30249639e-03,   1.29196674e-03,\n",
       "         2.17521626e-03,   2.45969364e-03,   1.61726547e-03,\n",
       "         2.84356936e-03,   2.91916230e-07,   3.06488532e-05,\n",
       "         4.72177872e-04,   2.04594164e-03,   2.31276486e-03,\n",
       "         2.59780515e-03,   2.76121347e-04,   2.02030215e-07,\n",
       "         6.31239211e-04,   2.88281146e-03,   1.38149109e-05,\n",
       "         5.62158793e-05,   1.02963289e-03,   1.47229246e-03,\n",
       "         4.20436830e-04,   2.08769575e-04,   2.58269876e-05,\n",
       "         1.71292018e-03,   1.44488823e-03,   2.58530614e-04,\n",
       "         1.70807998e-03,   2.68857329e-03,   1.11072927e-04,\n",
       "         1.28443315e-04,   2.41176180e-03,   5.85278418e-04,\n",
       "         2.58681785e-03,   1.24419610e-05,   1.11483219e-03,\n",
       "         2.24535665e-03,   2.35690091e-03,   7.52819585e-04,\n",
       "         2.93004761e-04,   1.58470886e-03,   4.59184534e-07,\n",
       "         2.38501305e-03,   7.74836484e-08,   1.47515143e-03,\n",
       "         7.47444549e-04,   3.04708347e-03,   4.87752361e-04,\n",
       "         2.19274184e-08,   2.31751941e-03,   2.22290489e-04,\n",
       "         1.24534988e-04,   2.45970689e-04,   7.88676169e-04,\n",
       "         3.17740767e-05,   1.87648681e-03,   1.07813746e-03,\n",
       "         3.15353215e-10,   6.87031135e-06,   1.69127536e-03,\n",
       "         6.97543091e-04,   1.47266231e-05,   2.40067695e-03,\n",
       "         5.99071568e-06,   8.47461236e-05,   3.03902781e-03,\n",
       "         1.38079791e-04,   7.34062466e-04,   1.92684645e-03,\n",
       "         2.73452713e-03,   1.12658325e-05,   2.59659649e-03,\n",
       "         2.57528936e-03,   1.69903682e-05,   1.29555693e-03,\n",
       "         1.39026633e-05,   2.25839522e-03,   2.16466917e-04,\n",
       "         2.15223286e-04,   2.80313325e-03,   1.15635783e-04,\n",
       "         1.04214366e-03,   1.23999608e-03,   9.49253780e-04,\n",
       "         1.86623672e-03,   1.04396005e-03,   2.70978495e-03,\n",
       "         6.36023009e-06,   1.54966504e-04,   2.05750527e-03,\n",
       "         6.86625686e-06,   4.24379900e-04,   1.71151772e-03,\n",
       "         1.06446154e-04,   1.09248169e-03,   2.97932258e-03,\n",
       "         2.80812148e-03,   1.58440350e-03,   2.60775281e-03,\n",
       "         4.69104082e-05,   1.56424412e-03,   1.40434193e-03,\n",
       "         2.88813904e-03,   3.03720396e-03,   2.50622728e-03,\n",
       "         8.42517343e-04,   1.18737231e-04,   3.11032838e-05,\n",
       "         2.47692325e-03,   1.04549642e-04,   1.58513279e-03,\n",
       "         1.41758272e-05,   7.48840944e-08,   2.87730900e-03,\n",
       "         2.14348311e-03,   7.35553336e-04,   2.05033268e-03,\n",
       "         4.36390121e-04,   1.38498623e-04,   2.59963104e-03,\n",
       "         2.68374266e-03,   1.91760313e-03,   1.39099708e-04,\n",
       "         1.86422357e-03,   2.95018065e-03,   2.92344396e-03,\n",
       "         2.53737707e-09,   8.45438359e-04,   2.10214554e-03,\n",
       "         4.88782432e-04,   3.77365255e-06,   2.34251807e-03,\n",
       "         2.18425111e-07,   8.43725649e-04,   3.02464364e-03,\n",
       "         1.25446638e-04,   5.49283700e-05,   8.79814299e-04,\n",
       "         2.64817991e-03,   1.50254861e-03,   3.77655835e-05,\n",
       "         1.89060972e-04,   2.62208887e-03,   3.26019090e-05,\n",
       "         1.30938531e-03,   2.19766717e-06,   2.22811639e-03,\n",
       "         1.59913961e-03,   1.34163920e-04,   2.14463466e-03,\n",
       "         1.29748086e-05,   8.82653034e-04,   2.11144948e-03,\n",
       "         8.52729086e-04,   2.81814510e-03,   1.71321898e-04,\n",
       "         2.31541092e-03,   2.77753610e-03,   1.21966800e-03,\n",
       "         1.54337875e-03,   1.77273498e-05,   1.24235167e-03,\n",
       "         8.08718427e-07,   1.91166416e-03,   3.61801069e-04,\n",
       "         1.48584733e-03,   2.81584574e-03,   9.77153619e-04,\n",
       "         1.70702928e-03,   1.28467530e-03,   7.12543957e-06,\n",
       "         5.29892366e-06,   3.70907978e-04,   1.10564285e-04,\n",
       "         5.81595411e-04,   4.74528839e-06,   2.67660966e-03,\n",
       "         2.78573918e-03,   1.69189746e-03,   5.60934992e-05,\n",
       "         1.02406052e-03,   6.38501805e-06,   2.12535026e-04,\n",
       "         4.93627484e-04,   3.23199005e-04,   7.86303460e-04,\n",
       "         5.20226587e-05,   7.04601207e-04,   1.28003484e-03,\n",
       "         5.55325587e-05,   2.46137288e-03,   2.22789608e-05,\n",
       "         6.48664079e-05,   6.13077346e-05,   1.08952396e-03,\n",
       "         2.72251997e-03,   3.04139761e-03,   5.01199512e-04,\n",
       "         2.61470398e-03,   2.69909373e-05,   1.29720073e-03,\n",
       "         2.85029948e-03,   3.08603967e-04,   4.28978487e-09,\n",
       "         1.78741046e-03,   1.65151085e-03,   1.95637050e-03,\n",
       "         3.59346675e-04,   6.60015418e-05,   1.01789188e-04,\n",
       "         2.00623961e-03,   6.22915221e-05,   8.55798633e-05,\n",
       "         5.09153094e-04,   7.57721631e-04,   5.96128485e-04,\n",
       "         4.42069216e-04,   1.47454164e-04,   3.06284721e-08,\n",
       "         2.35945698e-03,   2.88018745e-03,   2.83129549e-03,\n",
       "         2.07151757e-05,   2.93963182e-03,   5.86085760e-04,\n",
       "         2.90059246e-03,   7.09926525e-05,   1.55652697e-03,\n",
       "         2.42471389e-08,   2.33138982e-03,   1.94470392e-03,\n",
       "         2.49722323e-03,   2.23017445e-03,   3.07475909e-04,\n",
       "         5.99570242e-05,   1.08414925e-09,   2.34319358e-04,\n",
       "         6.63586314e-04,   2.55788803e-03,   1.14851199e-03,\n",
       "         2.08082482e-03,   1.13529007e-03,   3.83252118e-05,\n",
       "         7.50191860e-05,   1.73664339e-03,   2.08867448e-03,\n",
       "         1.92732693e-04,   2.77048731e-03,   5.01805764e-04,\n",
       "         2.49168071e-03,   2.92962476e-03,   2.36826839e-03,\n",
       "         4.59297276e-05,   2.19910171e-03,   3.21965760e-04,\n",
       "         2.00092833e-04,   1.97129925e-05,   9.30110267e-04,\n",
       "         6.07976088e-04,   1.20644215e-03,   2.62954992e-03,\n",
       "         4.11044997e-05,   2.20026613e-03,   6.71379955e-04,\n",
       "         2.47417026e-04,   2.99554000e-03,   2.75373174e-03,\n",
       "         2.85441162e-03,   9.53742184e-04,   1.20554630e-03,\n",
       "         3.01766201e-03,   2.77348167e-03,   4.67302227e-06,\n",
       "         2.59622688e-04,   5.14084888e-04,   7.05726498e-04,\n",
       "         2.48690044e-03,   1.54227678e-03,   1.58756842e-06,\n",
       "         1.05144302e-04,   1.34598737e-03,   1.45563096e-03,\n",
       "         2.44146542e-03,   2.03143609e-03,   1.96490227e-05,\n",
       "         1.13636934e-03,   2.85601968e-03,   5.71303675e-05,\n",
       "         3.01868346e-03,   1.19487512e-03,   7.98859356e-04,\n",
       "         3.00469613e-03,   1.70420801e-04,   1.70794093e-03,\n",
       "         2.46837447e-03,   1.78551673e-04,   1.91657709e-03,\n",
       "         2.58316670e-03,   1.83471170e-03,   2.25989615e-03,\n",
       "         2.05456993e-03,   2.19930174e-04,   3.70752531e-05,\n",
       "         3.53547593e-04,   2.58306182e-04,   1.63394597e-03,\n",
       "         1.99297219e-03,   1.06522923e-03,   2.71018747e-03,\n",
       "         2.29193947e-03,   2.22570553e-05,   2.58673201e-05,\n",
       "         1.05938088e-03,   1.80937315e-03,   1.05027455e-03,\n",
       "         1.95543786e-03,   2.74281161e-03,   1.40363706e-03,\n",
       "         1.94345638e-03,   8.37140624e-04,   2.81189410e-03,\n",
       "         2.89847636e-03,   8.09228037e-05,   1.68724627e-04,\n",
       "         6.26618875e-04,   1.73652026e-03,   2.26695520e-03,\n",
       "         1.06492001e-03,   1.78913445e-03,   5.76678281e-04,\n",
       "         1.66661659e-03,   7.96730142e-04,   1.00278529e-04,\n",
       "         1.06584178e-03,   2.73232791e-03,   8.45277430e-04,\n",
       "         3.75742402e-04,   3.25338435e-04,   2.82059311e-03,\n",
       "         5.48894304e-04,   1.84836714e-03,   2.19369165e-03,\n",
       "         8.82084892e-05,   4.56768174e-07,   1.68854636e-03,\n",
       "         5.61312271e-04,   1.58707896e-05,   1.79821522e-03,\n",
       "         1.69233168e-04,   3.95906822e-04,   5.93179447e-04,\n",
       "         2.98414106e-06,   1.59716341e-03,   2.94000134e-03,\n",
       "         2.19485496e-03,   1.90699273e-03,   1.70871005e-04,\n",
       "         2.06024711e-03,   5.08574794e-04,   1.19821776e-03,\n",
       "         6.28216912e-04,   2.98733241e-03,   2.99219187e-03,\n",
       "         2.60470606e-03,   1.38014791e-03,   7.05087995e-06,\n",
       "         4.90379087e-07,   5.04615643e-07,   2.59243409e-03,\n",
       "         2.93990766e-03,   2.65941979e-03,   2.31595414e-05,\n",
       "         1.15575961e-04,   6.30493277e-04,   2.46004445e-04,\n",
       "         2.89761194e-03,   2.01613881e-03,   4.94455106e-04,\n",
       "         2.91282075e-03,   3.64959816e-04,   2.75077204e-03,\n",
       "         2.02816311e-04,   2.73525993e-03,   8.58342015e-06,\n",
       "         5.27048987e-04,   1.05054099e-03,   2.43843065e-03,\n",
       "         8.35934236e-04,   7.77952528e-04,   2.52715898e-03,\n",
       "         1.10433676e-04,   1.07555737e-03,   2.28804942e-03,\n",
       "         1.46063175e-03,   2.03150560e-03,   1.14683483e-04,\n",
       "         3.58551961e-04,   2.39137998e-03,   4.58146123e-04,\n",
       "         4.69865982e-10,   6.15519229e-07,   1.96854246e-03,\n",
       "         2.29267647e-03,   2.25496994e-04,   6.34367622e-04,\n",
       "         2.31126139e-03,   2.22773782e-03,   2.24206528e-04,\n",
       "         1.09489866e-03,   1.47915633e-03,   1.06468948e-03,\n",
       "         2.28263596e-03,   1.84077926e-03,   1.83250347e-03,\n",
       "         2.86125942e-03,   1.00038066e-03,   2.99658396e-09,\n",
       "         1.23661593e-03,   6.31147324e-05,   2.08769254e-03,\n",
       "         3.26334516e-05,   2.61220219e-03,   8.76109928e-05,\n",
       "         3.79241970e-06,   7.35037753e-05,   7.88159200e-04,\n",
       "         9.83067426e-04,   1.49978340e-05,   1.29790015e-03,\n",
       "         1.60272210e-03,   1.38205172e-05,   3.84695770e-04,\n",
       "         1.50733547e-04,   1.35363818e-03,   3.02514694e-03,\n",
       "         2.75929788e-03,   1.37676719e-03,   2.96739179e-03,\n",
       "         2.32317995e-03,   2.62243445e-03,   5.83208502e-07,\n",
       "         1.20352141e-03,   2.17141261e-03,   9.15299622e-04,\n",
       "         1.58022252e-03,   8.62061158e-05,   2.65020696e-06,\n",
       "         2.17244040e-03,   1.96310389e-03,   2.39134806e-03,\n",
       "         1.46734526e-03,   2.94721421e-03,   2.12765715e-03,\n",
       "         5.22774422e-04,   2.53596915e-03,   1.57486866e-03,\n",
       "         2.61551010e-03,   1.56204922e-03,   2.71787456e-03,\n",
       "         1.85794315e-06,   3.53933876e-06,   2.69220059e-07,\n",
       "         8.22888568e-04,   2.72282788e-03,   3.56243666e-04,\n",
       "         3.70374795e-05,   3.33090238e-05,   5.61071721e-07,\n",
       "         2.56315733e-03,   1.95046416e-03,   7.75918689e-09,\n",
       "         1.46035784e-04,   2.40286957e-07,   1.95074047e-04,\n",
       "         2.98643618e-06,   5.11824260e-05,   3.20023052e-06,\n",
       "         8.86394721e-04,   1.30675808e-03,   2.70291211e-03,\n",
       "         6.31684043e-06,   1.46364820e-04,   2.38868053e-03,\n",
       "         2.30222981e-03,   3.93290288e-04,   2.79901928e-03,\n",
       "         2.66536220e-04,   1.83849153e-03,   8.44584172e-04,\n",
       "         2.90536250e-03,   1.44163385e-03,   5.26943028e-05,\n",
       "         2.39453679e-03,   2.84206650e-04,   1.23065300e-03,\n",
       "         1.20291197e-03,   3.88166370e-08,   1.82065026e-03,\n",
       "         2.17569374e-03,   7.02651181e-05,   1.56830781e-03,\n",
       "         5.05380266e-13,   2.93440941e-03,   2.45391944e-04,\n",
       "         2.59938134e-03,   6.38931472e-04,   1.00592757e-03,\n",
       "         2.04097622e-03,   3.23301997e-04,   7.19089315e-04,\n",
       "         8.91051214e-04,   2.80116715e-04,   2.33084924e-03,\n",
       "         1.95756446e-03,   1.01189791e-03,   1.09425651e-03,\n",
       "         1.51337336e-04,   1.21010824e-04,   3.69588329e-04,\n",
       "         2.75882018e-03,   3.06214890e-04,   1.21293276e-03,\n",
       "         1.10635806e-03,   2.18012107e-04,   1.63043008e-04,\n",
       "         4.85589090e-04,   8.21577972e-05,   2.68687295e-03,\n",
       "         2.20694545e-05,   2.75576532e-03,   8.36889729e-05,\n",
       "         1.87534423e-05,   1.92861035e-05,   2.22484867e-05,\n",
       "         6.39899018e-04,   1.17030617e-03,   1.60334175e-03,\n",
       "         4.50845848e-04,   1.71642563e-04,   2.75551694e-03,\n",
       "         1.81722078e-03,   1.58546712e-03,   2.84253664e-03,\n",
       "         6.29015212e-05,   8.42860314e-06,   3.60984993e-04,\n",
       "         4.33451882e-06,   8.05416378e-05,   2.84179868e-03,\n",
       "         2.41299779e-03])"
      ]
     },
     "execution_count": 93,
     "metadata": {},
     "output_type": "execute_result"
    }
   ],
   "source": [
    "dist"
   ]
  },
  {
   "cell_type": "code",
   "execution_count": null,
   "metadata": {
    "collapsed": true
   },
   "outputs": [],
   "source": [
    "xy = np.zeros(1000)\n",
    "for i in range(1000):\n",
    "    dist[i] = "
   ]
  },
  {
   "cell_type": "code",
   "execution_count": 94,
   "metadata": {
    "collapsed": false
   },
   "outputs": [
    {
     "data": {
      "text/plain": [
       "[<matplotlib.lines.Line2D at 0x10d818080>]"
      ]
     },
     "execution_count": 94,
     "metadata": {},
     "output_type": "execute_result"
    },
    {
     "data": {
      "image/png": "[encoded data removed]",
      "text/plain": [
       "<matplotlib.figure.Figure at 0x10d6bcfd0>"
      ]
     },
     "metadata": {},
     "output_type": "display_data"
    }
   ],
   "source": [
    "plt.plot(dist)"
   ]
  },
  {
   "cell_type": "code",
   "execution_count": 20,
   "metadata": {
    "collapsed": false
   },
   "outputs": [
    {
     "data": {
      "text/plain": [
       "362879.99999999994"
      ]
     },
     "execution_count": 20,
     "metadata": {},
     "output_type": "execute_result"
    }
   ],
   "source": [
    "gamma_func(10)"
   ]
  },
  {
   "cell_type": "code",
   "execution_count": 2,
   "metadata": {
    "collapsed": false
   },
   "outputs": [],
   "source": [
    "from scipy.integrate import quad\n",
    "\n",
    "answer, abserr = quad(lambda x: 1/(1+x**2), 0, 1)"
   ]
  },
  {
   "cell_type": "code",
   "execution_count": 6,
   "metadata": {
    "collapsed": false
   },
   "outputs": [
    {
     "data": {
      "text/plain": [
       "inf"
      ]
     },
     "execution_count": 6,
     "metadata": {},
     "output_type": "execute_result"
    }
   ],
   "source": [
    "float(\"inf\")"
   ]
  },
  {
   "cell_type": "code",
   "execution_count": 32,
   "metadata": {
    "collapsed": false
   },
   "outputs": [],
   "source": [
    "H = [2, 4]\n",
    "A = [1,2]"
   ]
  },
  {
   "cell_type": "code",
   "execution_count": 33,
   "metadata": {
    "collapsed": false
   },
   "outputs": [
    {
     "data": {
      "text/plain": [
       "[2, 4, 4, 8]"
      ]
     },
     "execution_count": 33,
     "metadata": {},
     "output_type": "execute_result"
    }
   ],
   "source": [
    "[h*a for h in H for a in A]"
   ]
  },
  {
   "cell_type": "code",
   "execution_count": 24,
   "metadata": {
    "collapsed": false
   },
   "outputs": [
    {
     "data": {
      "text/plain": [
       "8"
      ]
     },
     "execution_count": 24,
     "metadata": {},
     "output_type": "execute_result"
    }
   ],
   "source": [
    "np.prod(h)"
   ]
  },
  {
   "cell_type": "code",
   "execution_count": 30,
   "metadata": {
    "collapsed": false
   },
   "outputs": [
    {
     "ename": "SyntaxError",
     "evalue": "invalid syntax (<ipython-input-30-10f73eab491e>, line 1)",
     "output_type": "error",
     "traceback": [
      "\u001b[0;36m  File \u001b[0;32m\"<ipython-input-30-10f73eab491e>\"\u001b[0;36m, line \u001b[0;32m1\u001b[0m\n\u001b[0;31m    h*//\u001b[0m\n\u001b[0m       ^\u001b[0m\n\u001b[0;31mSyntaxError\u001b[0m\u001b[0;31m:\u001b[0m invalid syntax\n"
     ]
    }
   ],
   "source": [
    "h*//\n",
    "2"
   ]
  },
  {
   "cell_type": "code",
   "execution_count": 37,
   "metadata": {
    "collapsed": false
   },
   "outputs": [
    {
     "data": {
      "text/plain": [
       "array([ 0.        ,  0.10526316,  0.21052632,  0.31578947,  0.42105263,\n",
       "        0.52631579,  0.63157895,  0.73684211,  0.84210526,  0.94736842,\n",
       "        1.05263158,  1.15789474,  1.26315789,  1.36842105,  1.47368421,\n",
       "        1.57894737,  1.68421053,  1.78947368,  1.89473684,  2.        ])"
      ]
     },
     "execution_count": 37,
     "metadata": {},
     "output_type": "execute_result"
    }
   ],
   "source": [
    "np.linspace(0, 2, 20)"
   ]
  },
  {
   "cell_type": "code",
   "execution_count": 96,
   "metadata": {
    "collapsed": false
   },
   "outputs": [
    {
     "data": {
      "image/png": "[encoded data removed]",
      "text/plain": [
       "<matplotlib.figure.Figure at 0x10dc60080>"
      ]
     },
     "metadata": {},
     "output_type": "display_data"
    }
   ],
   "source": [
    "import numpy as np\n",
    "import matplotlib.pyplot as plt\n",
    "import matplotlib.tri as tri\n",
    "from functools import reduce\n",
    "\n",
    "corners = np.array([[0, 0], [1, 0], [0.5, 0.75**0.5]])\n",
    "triangle = tri.Triangulation(corners[:, 0], corners[:, 1])\n",
    "\n",
    "refiner = tri.UniformTriRefiner(triangle)\n",
    "trimesh = refiner.refine_triangulation(subdiv=4)\n",
    "\n",
    "plt.figure(figsize=(8, 4))\n",
    "for (i, mesh) in enumerate((triangle, trimesh)):\n",
    "    plt.subplot(1, 2, i+ 1)\n",
    "    plt.triplot(mesh)\n",
    "    plt.axis('off')\n",
    "    plt.axis('equal')\n",
    "\n",
    "midpoints = [(corners[(i + 1) % 3] + corners[(i + 2) % 3]) / 2.0 \\\n",
    "             for i in range(3)]\n",
    "def xy2bc(xy, tol=1.e-3):\n",
    "    '''Converts 2D Cartesian coordinates to barycentric.'''\n",
    "    s = [(corners[i] - midpoints[i]).dot(xy - midpoints[i]) / 0.75 \\\n",
    "         for i in range(3)]\n",
    "    return np.clip(s, tol, 1.0 - tol)\n",
    "    \n",
    "class Dir(object):\n",
    "    def __init__(self, alpha):\n",
    "        from math import gamma\n",
    "        from operator import mul\n",
    "        self._alpha = np.array(alpha)\n",
    "        self._coef = gamma(np.sum(self._alpha)) / \\\n",
    "                     reduce(mul, [gamma(a) for a in self._alpha])\n",
    "    def pdf(self, x):\n",
    "        '''Returns pdf value for `x`.'''\n",
    "        from operator import mul\n",
    "        return self._coef * reduce(mul, [xx ** (aa - 1)\n",
    "                                         for (xx, aa)in zip(x, self._alpha)])\n",
    "\n",
    "def draw_pdf(dist, nlevels=200, subdiv=8, **kwargs):\n",
    "    import math\n",
    "\n",
    "    refiner = tri.UniformTriRefiner(triangle)\n",
    "    trimesh = refiner.refine_triangulation(subdiv=subdiv)\n",
    "    pvals = [dist.pdf(xy2bc(xy)) for xy in zip(trimesh.x, trimesh.y)]\n",
    "\n",
    "    plt.tricontourf(trimesh, pvals, nlevels, **kwargs)\n",
    "    plt.axis('equal')\n",
    "    plt.xlim(0, 1)\n",
    "    plt.ylim(0, 0.75**0.5)\n",
    "    plt.axis('off')"
   ]
  },
  {
   "cell_type": "code",
   "execution_count": 101,
   "metadata": {
    "collapsed": true
   },
   "outputs": [],
   "source": [
    "d = Dir([0.01, 0.01, 0.01])"
   ]
  },
  {
   "cell_type": "code",
   "execution_count": 102,
   "metadata": {
    "collapsed": false
   },
   "outputs": [
    {
     "data": {
      "image/png": "[encoded data removed]",
      "text/plain": [
       "<matplotlib.figure.Figure at 0x10eef8d68>"
      ]
     },
     "metadata": {},
     "output_type": "display_data"
    }
   ],
   "source": [
    "draw_pdf(d)"
   ]
  },
  {
   "cell_type": "code",
   "execution_count": null,
   "metadata": {
    "collapsed": true
   },
   "outputs": [],
   "source": []
  }
 ],
 "metadata": {
  "kernelspec": {
   "display_name": "Python 3",
   "language": "python",
   "name": "python3"
  },
  "language_info": {
   "codemirror_mode": {
    "name": "ipython",
    "version": 3
   },
   "file_extension": ".py",
   "mimetype": "text/x-python",
   "name": "python",
   "nbconvert_exporter": "python",
   "pygments_lexer": "ipython3",
   "version": "3.5.1"
  }
 },
 "nbformat": 4,
 "nbformat_minor": 0
}
