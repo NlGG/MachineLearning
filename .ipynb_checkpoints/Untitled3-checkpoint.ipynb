{
 "cells": [
  {
   "cell_type": "markdown",
   "metadata": {},
   "source": [
    "以下の論文のPSOアルゴリズムに従った。"
   ]
  },
  {
   "cell_type": "markdown",
   "metadata": {},
   "source": [
    "http://ci.nii.ac.jp/els/110006977755.pdf?id=ART0008887051&type=pdf&lang=en&host=cinii&order_no=&ppv_type=0&lang_sw=&no=1452683083&cp="
   ]
  },
  {
   "cell_type": "code",
   "execution_count": 1,
   "metadata": {
    "collapsed": true
   },
   "outputs": [],
   "source": [
    "%matplotlib inline\n",
    "\n",
    "import numpy as np\n",
    "import pylab as pl\n",
    "import math \n",
    "from sympy import *\n",
    "import matplotlib.pyplot as plt\n",
    "import matplotlib.animation as animation\n",
    "from mpl_toolkits.mplot3d import Axes3D"
   ]
  },
  {
   "cell_type": "code",
   "execution_count": 182,
   "metadata": {
    "collapsed": true
   },
   "outputs": [],
   "source": [
    "def TSP_map(N): #100×100の正方格子内にN個の点を配置する関数\n",
    "    TSP_map = []\n",
    "    X = [i for i in range(100)]\n",
    "    Y = [i for i in range(100)]\n",
    "    x = np.array([])\n",
    "    y = np.array([])\n",
    "    for i in range(N):\n",
    "        x = np.append(x, np.random.choice(X))\n",
    "        y = np.append(y, np.random.choice(Y))\n",
    "    for i in range(N):\n",
    "        TSP_map.append([x[i], y[i]])\n",
    "    return TSP_map"
   ]
  },
  {
   "cell_type": "code",
   "execution_count": 400,
   "metadata": {
    "collapsed": false
   },
   "outputs": [],
   "source": [
    "class PSO:\n",
    "    def __init__(self, N, pN, omega, alpha, beta):\n",
    "        self.N = N\n",
    "        self.pN = pN\n",
    "        self.omega = omega\n",
    "        self.alpha = alpha \n",
    "        self.beta = beta\n",
    "        self.city = TSP_map(N)\n",
    "        \n",
    "    def initialize(self):\n",
    "        ptcl = np.array([])\n",
    "        for i in range(self.pN):\n",
    "            a = np.random.choice([i for i in range(self.N - 1)])\n",
    "            b = np.random.choice([i for i in range(a, self.N)])\n",
    "            V = [a, b]\n",
    "            ptcl = np.append(ptcl, particle(i, V, self.N, self.omega, self.alpha, self.beta))\n",
    "        self.ptcl = ptcl\n",
    "        return self.ptcl\n",
    "    \n",
    "    def one_simulate(self):\n",
    "        for i in range(self.pN):\n",
    "            self.ptcl[i].SS_id()\n",
    "            self.ptcl[i].SS_gd(self.p_gd_X)\n",
    "            self.ptcl[i].new_V()\n",
    "            self.ptcl[i].new_X()\n",
    "            self.ptcl[i].P_id(self.city)\n",
    "            \n",
    "    def simulate(self, sim_num):\n",
    "        for i in range(self.pN):\n",
    "            self.ptcl[i].initial(self.city)\n",
    "        self.p_gd_X = self.P_gd()\n",
    "        for i in range(sim_num):\n",
    "            self.one_simulate()\n",
    "            self.p_gd_X = self.P_gd()\n",
    "        self.p_gd_X = self.P_gd()\n",
    "        return self.p_gd_X\n",
    "     \n",
    "    def P_gd(self):\n",
    "        P_gd = self.ptcl[0].p_id\n",
    "        no = 0\n",
    "        for i in range(self.pN):\n",
    "            if P_gd < self.ptcl[i].p_id:\n",
    "                P_gd = self.ptcl[i].p_id\n",
    "                self.no = i\n",
    "        return self.ptcl[self.no].p_id_X"
   ]
  },
  {
   "cell_type": "code",
   "execution_count": 417,
   "metadata": {
    "collapsed": false
   },
   "outputs": [],
   "source": [
    "class particle:\n",
    "    def __init__(self, No, V, num_city, omega, alpha, beta): #noは粒子の番号（ナンバー）である。\n",
    "        self.No = No\n",
    "        self.V = V\n",
    "        self.num_city = num_city\n",
    "        self.omega = omega\n",
    "        self.alpha = alpha \n",
    "        self.beta = beta\n",
    "        self.X = self.init_X()\n",
    "        \n",
    "    def initial(self, city):\n",
    "        self.ss_id = []\n",
    "        self.ss_gd = []\n",
    "        self.P_id(city)\n",
    "    \n",
    "    def init_X(self):\n",
    "        c = np.array([i for i in range(self.num_city)])\n",
    "        np.random.shuffle(c)\n",
    "        return c\n",
    "    \n",
    "    def SO(self, V, P):\n",
    "        SO = []\n",
    "        for i in range(len(V)):\n",
    "            if V[i] != P[i]:\n",
    "                t = np.where(V == P[i])\n",
    "                t = int(t[0])\n",
    "                a = V[i]\n",
    "                b = V[t]\n",
    "                V[i] = b\n",
    "                V[t] = a\n",
    "                SO.append([i, t])\n",
    "        return SO\n",
    "        \n",
    "    def SS_id(self):\n",
    "        self.ss_id = self.SO(self.X, self.p_id_X)\n",
    "        \n",
    "    def SS_gd(self, p_gd_X):\n",
    "        self.ss_gd = self.SO(self.X, p_gd_X)\n",
    "             \n",
    "    def select(self, V, v, p):\n",
    "        select_v = np.array([])\n",
    "        for i in range(len(V)):\n",
    "            x = np.random.choice([1, 0], p=[p, 1-p])\n",
    "            if x == 1:\n",
    "                select_v = np.append(select_v,V[i])\n",
    "        return select_v\n",
    "    \n",
    "    def new_V(self):\n",
    "        V = np.array([])\n",
    "        self.select(V, self.V, self.omega)\n",
    "        self.select(V, self.SS_id, self.alpha)\n",
    "        self.select(V, self.ss_gd, self.beta)\n",
    "        self.V = V\n",
    "        return self.V\n",
    "    \n",
    "    def new_X(self):\n",
    "        for i in range(len(self.V)):\n",
    "            j = self.V[i][0]\n",
    "            k = self.V[i][1]\n",
    "            a = self.X[j]\n",
    "            b = self.X[k]\n",
    "            self.X[j] = b\n",
    "            self.X[k] = a\n",
    "        return self.X\n",
    "    \n",
    "    \n",
    "    def P_id(self, city): #二都市間の距離を足し上げてP_idを求める関数。\n",
    "        P_id = 0\n",
    "        for i in range(self.num_city):\n",
    "            if i != self.num_city-1:\n",
    "                x1 = city[self.X[i]][0]\n",
    "                y1 = city[self.X[i]][1]\n",
    "                x2 = city[self.X[i+1]][0]\n",
    "                y2 = city[self.X[i+1]][1]\n",
    "            else:\n",
    "                x1 = city[self.X[i]][0]\n",
    "                y1 = city[self.X[i]][1]\n",
    "                x2 = city[self.X[0]][0]\n",
    "                y2 = city[self.X[0]][1]\n",
    "            a = np.array([x1, y1])\n",
    "            b = np.array([x2, y2])\n",
    "            u = b - a\n",
    "            p = np.linalg.norm(u)\n",
    "            P_id += p\n",
    "        if P_id < self.P_id:\n",
    "            self.p_id = P_id\n",
    "            self.p_id_X = self.X\n",
    "        return self.p_id"
   ]
  },
  {
   "cell_type": "markdown",
   "metadata": {},
   "source": [
    "10都市で行う。パラメータは左から順に、（都市の数、粒子の数、前期の速度の影響率、localベストの影響率、globalベストの影響率)である。"
   ]
  },
  {
   "cell_type": "code",
   "execution_count": 418,
   "metadata": {
    "collapsed": false
   },
   "outputs": [],
   "source": [
    "pso = PSO(10, 10, 0.3, 0.1, 0.3)"
   ]
  },
  {
   "cell_type": "markdown",
   "metadata": {},
   "source": [
    "都市の座標とプロット。"
   ]
  },
  {
   "cell_type": "code",
   "execution_count": 419,
   "metadata": {
    "collapsed": false
   },
   "outputs": [
    {
     "data": {
      "text/plain": [
       "[[40.0, 26.0],\n",
       " [16.0, 74.0],\n",
       " [74.0, 49.0],\n",
       " [55.0, 20.0],\n",
       " [20.0, 14.0],\n",
       " [24.0, 75.0],\n",
       " [87.0, 84.0],\n",
       " [15.0, 87.0],\n",
       " [8.0, 9.0],\n",
       " [34.0, 70.0]]"
      ]
     },
     "execution_count": 419,
     "metadata": {},
     "output_type": "execute_result"
    }
   ],
   "source": [
    "pso.city"
   ]
  },
  {
   "cell_type": "code",
   "execution_count": 420,
   "metadata": {
    "collapsed": false
   },
   "outputs": [
    {
     "data": {
      "text/plain": [
       "<matplotlib.collections.PathCollection at 0x10b55bb50>"
      ]
     },
     "execution_count": 420,
     "metadata": {},
     "output_type": "execute_result"
    },
    {
     "data": {
      "image/png": "[encoded data removed]",
      "text/plain": [
       "<matplotlib.figure.Figure at 0x10b4b0cd0>"
      ]
     },
     "metadata": {},
     "output_type": "display_data"
    }
   ],
   "source": [
    "x = []\n",
    "y = []\n",
    "for i in range(len(pso.city)):\n",
    "    x.append(pso.city[i][0])\n",
    "    y.append(pso.city[i][1])\n",
    "plt.scatter(x, y)"
   ]
  },
  {
   "cell_type": "markdown",
   "metadata": {},
   "source": [
    "粒子の初期化。"
   ]
  },
  {
   "cell_type": "code",
   "execution_count": 421,
   "metadata": {
    "collapsed": false
   },
   "outputs": [
    {
     "data": {
      "text/plain": [
       "array([<__main__.particle instance at 0x10b55ae18>,\n",
       "       <__main__.particle instance at 0x10ac81e18>,\n",
       "       <__main__.particle instance at 0x10ac81ab8>,\n",
       "       <__main__.particle instance at 0x10b4bba70>,\n",
       "       <__main__.particle instance at 0x10b4bbe60>,\n",
       "       <__main__.particle instance at 0x10b4bbea8>,\n",
       "       <__main__.particle instance at 0x10b4bbd40>,\n",
       "       <__main__.particle instance at 0x10b4bbbd8>,\n",
       "       <__main__.particle instance at 0x10b4bbab8>,\n",
       "       <__main__.particle instance at 0x10b4bbb00>], dtype=object)"
      ]
     },
     "execution_count": 421,
     "metadata": {},
     "output_type": "execute_result"
    }
   ],
   "source": [
    "pso.initialize()"
   ]
  },
  {
   "cell_type": "markdown",
   "metadata": {},
   "source": [
    "100回シミュレーションした。"
   ]
  },
  {
   "cell_type": "code",
   "execution_count": 422,
   "metadata": {
    "collapsed": false
   },
   "outputs": [
    {
     "ename": "UnboundLocalError",
     "evalue": "local variable 'b' referenced before assignment",
     "output_type": "error",
     "traceback": [
      "\u001b[0;31m---------------------------------------------------------------------------\u001b[0m",
      "\u001b[0;31mUnboundLocalError\u001b[0m                         Traceback (most recent call last)",
      "\u001b[0;32m<ipython-input-422-f8bd8acc09d9>\u001b[0m in \u001b[0;36m<module>\u001b[0;34m()\u001b[0m\n\u001b[0;32m----> 1\u001b[0;31m \u001b[0mpso\u001b[0m\u001b[0;34m.\u001b[0m\u001b[0msimulate\u001b[0m\u001b[0;34m(\u001b[0m\u001b[0;36m100\u001b[0m\u001b[0;34m)\u001b[0m\u001b[0;34m\u001b[0m\u001b[0m\n\u001b[0m",
      "\u001b[0;32m<ipython-input-400-22e24e62e66e>\u001b[0m in \u001b[0;36msimulate\u001b[0;34m(self, sim_num)\u001b[0m\n\u001b[1;32m     31\u001b[0m         \u001b[0mself\u001b[0m\u001b[0;34m.\u001b[0m\u001b[0mp_gd_X\u001b[0m \u001b[0;34m=\u001b[0m \u001b[0mself\u001b[0m\u001b[0;34m.\u001b[0m\u001b[0mP_gd\u001b[0m\u001b[0;34m(\u001b[0m\u001b[0;34m)\u001b[0m\u001b[0;34m\u001b[0m\u001b[0m\n\u001b[1;32m     32\u001b[0m         \u001b[0;32mfor\u001b[0m \u001b[0mi\u001b[0m \u001b[0;32min\u001b[0m \u001b[0mrange\u001b[0m\u001b[0;34m(\u001b[0m\u001b[0msim_num\u001b[0m\u001b[0;34m)\u001b[0m\u001b[0;34m:\u001b[0m\u001b[0;34m\u001b[0m\u001b[0m\n\u001b[0;32m---> 33\u001b[0;31m             \u001b[0mself\u001b[0m\u001b[0;34m.\u001b[0m\u001b[0mone_simulate\u001b[0m\u001b[0;34m(\u001b[0m\u001b[0;34m)\u001b[0m\u001b[0;34m\u001b[0m\u001b[0m\n\u001b[0m\u001b[1;32m     34\u001b[0m             \u001b[0mself\u001b[0m\u001b[0;34m.\u001b[0m\u001b[0mp_gd_X\u001b[0m \u001b[0;34m=\u001b[0m \u001b[0mself\u001b[0m\u001b[0;34m.\u001b[0m\u001b[0mP_gd\u001b[0m\u001b[0;34m(\u001b[0m\u001b[0;34m)\u001b[0m\u001b[0;34m\u001b[0m\u001b[0m\n\u001b[1;32m     35\u001b[0m         \u001b[0mself\u001b[0m\u001b[0;34m.\u001b[0m\u001b[0mp_gd_X\u001b[0m \u001b[0;34m=\u001b[0m \u001b[0mself\u001b[0m\u001b[0;34m.\u001b[0m\u001b[0mP_gd\u001b[0m\u001b[0;34m(\u001b[0m\u001b[0;34m)\u001b[0m\u001b[0;34m\u001b[0m\u001b[0m\n",
      "\u001b[0;32m<ipython-input-400-22e24e62e66e>\u001b[0m in \u001b[0;36mone_simulate\u001b[0;34m(self)\u001b[0m\n\u001b[1;32m     23\u001b[0m             \u001b[0mself\u001b[0m\u001b[0;34m.\u001b[0m\u001b[0mptcl\u001b[0m\u001b[0;34m[\u001b[0m\u001b[0mi\u001b[0m\u001b[0;34m]\u001b[0m\u001b[0;34m.\u001b[0m\u001b[0mSS_gd\u001b[0m\u001b[0;34m(\u001b[0m\u001b[0mself\u001b[0m\u001b[0;34m.\u001b[0m\u001b[0mp_gd_X\u001b[0m\u001b[0;34m)\u001b[0m\u001b[0;34m\u001b[0m\u001b[0m\n\u001b[1;32m     24\u001b[0m             \u001b[0mself\u001b[0m\u001b[0;34m.\u001b[0m\u001b[0mptcl\u001b[0m\u001b[0;34m[\u001b[0m\u001b[0mi\u001b[0m\u001b[0;34m]\u001b[0m\u001b[0;34m.\u001b[0m\u001b[0mnew_V\u001b[0m\u001b[0;34m(\u001b[0m\u001b[0;34m)\u001b[0m\u001b[0;34m\u001b[0m\u001b[0m\n\u001b[0;32m---> 25\u001b[0;31m             \u001b[0mself\u001b[0m\u001b[0;34m.\u001b[0m\u001b[0mptcl\u001b[0m\u001b[0;34m[\u001b[0m\u001b[0mi\u001b[0m\u001b[0;34m]\u001b[0m\u001b[0;34m.\u001b[0m\u001b[0mnew_X\u001b[0m\u001b[0;34m(\u001b[0m\u001b[0;34m)\u001b[0m\u001b[0;34m\u001b[0m\u001b[0m\n\u001b[0m\u001b[1;32m     26\u001b[0m             \u001b[0mself\u001b[0m\u001b[0;34m.\u001b[0m\u001b[0mptcl\u001b[0m\u001b[0;34m[\u001b[0m\u001b[0mi\u001b[0m\u001b[0;34m]\u001b[0m\u001b[0;34m.\u001b[0m\u001b[0mP_id\u001b[0m\u001b[0;34m(\u001b[0m\u001b[0mself\u001b[0m\u001b[0;34m.\u001b[0m\u001b[0mcity\u001b[0m\u001b[0;34m)\u001b[0m\u001b[0;34m\u001b[0m\u001b[0m\n\u001b[1;32m     27\u001b[0m \u001b[0;34m\u001b[0m\u001b[0m\n",
      "\u001b[0;32m<ipython-input-417-1bd4fcf98187>\u001b[0m in \u001b[0;36mnew_X\u001b[0;34m(self)\u001b[0m\n\u001b[1;32m     62\u001b[0m             \u001b[0mself\u001b[0m\u001b[0;34m.\u001b[0m\u001b[0mX\u001b[0m\u001b[0;34m[\u001b[0m\u001b[0mj\u001b[0m\u001b[0;34m]\u001b[0m \u001b[0;34m=\u001b[0m \u001b[0mb\u001b[0m\u001b[0;34m\u001b[0m\u001b[0m\n\u001b[1;32m     63\u001b[0m             \u001b[0mself\u001b[0m\u001b[0;34m.\u001b[0m\u001b[0mX\u001b[0m\u001b[0;34m[\u001b[0m\u001b[0mk\u001b[0m\u001b[0;34m]\u001b[0m \u001b[0;34m=\u001b[0m \u001b[0ma\u001b[0m\u001b[0;34m\u001b[0m\u001b[0m\n\u001b[0;32m---> 64\u001b[0;31m         \u001b[0;32mprint\u001b[0m \u001b[0mb\u001b[0m\u001b[0;34m,\u001b[0m \u001b[0ma\u001b[0m\u001b[0;34m\u001b[0m\u001b[0m\n\u001b[0m\u001b[1;32m     65\u001b[0m         \u001b[0;32mreturn\u001b[0m \u001b[0mself\u001b[0m\u001b[0;34m.\u001b[0m\u001b[0mX\u001b[0m\u001b[0;34m\u001b[0m\u001b[0m\n\u001b[1;32m     66\u001b[0m \u001b[0;34m\u001b[0m\u001b[0m\n",
      "\u001b[0;31mUnboundLocalError\u001b[0m: local variable 'b' referenced before assignment"
     ]
    }
   ],
   "source": [
    "pso.simulate(100)"
   ]
  },
  {
   "cell_type": "code",
   "execution_count": 415,
   "metadata": {
    "collapsed": false
   },
   "outputs": [
    {
     "data": {
      "text/plain": [
       "[<matplotlib.lines.Line2D at 0x109d30a10>]"
      ]
     },
     "execution_count": 415,
     "metadata": {},
     "output_type": "execute_result"
    },
    {
     "data": {
      "image/png": "[encoded data removed]",
      "text/plain": [
       "<matplotlib.figure.Figure at 0x10b35a790>"
      ]
     },
     "metadata": {},
     "output_type": "display_data"
    }
   ],
   "source": [
    "x = []\n",
    "y = []\n",
    "for i in pso.p_gd_X:\n",
    "    x.append(pso.city[i][0])\n",
    "    y.append(pso.city[i][1])\n",
    "plt.plot(x, y)"
   ]
  },
  {
   "cell_type": "code",
   "execution_count": 416,
   "metadata": {
    "collapsed": false
   },
   "outputs": [
    {
     "data": {
      "text/plain": [
       "1"
      ]
     },
     "execution_count": 416,
     "metadata": {},
     "output_type": "execute_result"
    }
   ],
   "source": [
    "pso.no"
   ]
  },
  {
   "cell_type": "code",
   "execution_count": null,
   "metadata": {
    "collapsed": true
   },
   "outputs": [],
   "source": []
  },
  {
   "cell_type": "code",
   "execution_count": null,
   "metadata": {
    "collapsed": true
   },
   "outputs": [],
   "source": []
  }
 ],
 "metadata": {
  "kernelspec": {
   "display_name": "Python 2",
   "language": "python",
   "name": "python2"
  },
  "language_info": {
   "codemirror_mode": {
    "name": "ipython",
    "version": 2
   },
   "file_extension": ".py",
   "mimetype": "text/x-python",
   "name": "python",
   "nbconvert_exporter": "python",
   "pygments_lexer": "ipython2",
   "version": "2.7.11"
  }
 },
 "nbformat": 4,
 "nbformat_minor": 0
}
